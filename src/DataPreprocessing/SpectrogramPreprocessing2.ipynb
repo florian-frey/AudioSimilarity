{
  "metadata": {
    "kernelspec": {
      "display_name": "Python 3",
      "name": "python3"
    },
    "language_info": {
      "name": "python",
      "version": "3.10.10",
      "mimetype": "text/x-python",
      "codemirror_mode": {
        "name": "ipython",
        "version": 3
      },
      "pygments_lexer": "ipython3",
      "nbconvert_exporter": "python",
      "file_extension": ".py"
    },
    "colab": {
      "provenance": [],
      "collapsed_sections": [
        "IZx4Rt_Cfrm0"
      ],
      "gpuType": "T4",
      "include_colab_link": true
    }
  },
  "nbformat_minor": 0,
  "nbformat": 4,
  "cells": [
    {
      "cell_type": "markdown",
      "metadata": {
        "id": "view-in-github",
        "colab_type": "text"
      },
      "source": [
        "<a href=\"https://colab.research.google.com/github/florian-frey/AudioSimilarity/blob/main/src/DataPreprocessing/SpectrogramPreprocessingASS2.ipynb\" target=\"_parent\"><img src=\"https://colab.research.google.com/assets/colab-badge.svg\" alt=\"Open In Colab\"/></a>"
      ]
    },
    {
      "cell_type": "markdown",
      "source": [
        "# Convert Music to Spectrograms\n",
        "\n",
        "This notebook preprocesses spectrograms created with the FMA music dataset further.\n",
        "\n",
        "This includes resizing all data to one specific shape (x\\*1920\\*3) and splitting the data in diagrams representing three seconds each."
      ],
      "metadata": {
        "_uuid": "8f2839f25d086af736a60e9eeb907d3b93b6e0e5",
        "_cell_guid": "b1076dfc-b9ad-4769-8c92-a6c4dae69d19",
        "execution": {
          "iopub.status.busy": "2023-06-23T08:49:40.682435Z",
          "iopub.execute_input": "2023-06-23T08:49:40.682827Z",
          "iopub.status.idle": "2023-06-23T08:49:40.721733Z",
          "shell.execute_reply.started": "2023-06-23T08:49:40.682796Z",
          "shell.execute_reply": "2023-06-23T08:49:40.720496Z"
        },
        "id": "JXqMNjcDfrmw"
      }
    },
    {
      "cell_type": "markdown",
      "source": [
        "## 1 Imports"
      ],
      "metadata": {
        "id": "IZx4Rt_Cfrm0"
      }
    },
    {
      "cell_type": "code",
      "source": [
        "# import necessary librarys\n",
        "import numpy as np\n",
        "import pandas as pd\n",
        "import cv2\n",
        "import shutil\n",
        "from tqdm import tqdm\n",
        "import os"
      ],
      "metadata": {
        "execution": {
          "iopub.status.busy": "2023-06-28T11:43:05.006930Z",
          "iopub.execute_input": "2023-06-28T11:43:05.008367Z",
          "iopub.status.idle": "2023-06-28T11:43:06.297166Z",
          "shell.execute_reply.started": "2023-06-28T11:43:05.008312Z",
          "shell.execute_reply": "2023-06-28T11:43:06.295749Z"
        },
        "trusted": true,
        "id": "OpB1jAKEfrm1"
      },
      "execution_count": 1,
      "outputs": []
    },
    {
      "cell_type": "code",
      "source": [
        "# connect to google drive --> allows to store kaggle.json API token under the main folder in the drive,\n",
        "#   so that it doesn't have to be uploaded every time\n",
        "# Alternatively the kaggle.json can be uploaded under /content/\n",
        "\n",
        "from google.colab import drive\n",
        "drive.mount('/content/drive')"
      ],
      "metadata": {
        "colab": {
          "base_uri": "https://localhost:8080/"
        },
        "id": "Hy8nwuZsf2in",
        "outputId": "f26b2b47-c65b-49f6-b01b-46f2f9d31169"
      },
      "execution_count": 2,
      "outputs": [
        {
          "output_type": "stream",
          "name": "stdout",
          "text": [
            "Mounted at /content/drive\n"
          ]
        }
      ]
    },
    {
      "cell_type": "markdown",
      "source": [
        "# 2 Preprocess data further"
      ],
      "metadata": {
        "id": "h_XD8wNhp_KE"
      }
    },
    {
      "cell_type": "code",
      "source": [
        "# extract all images of the first folder\n",
        "\n",
        "for i in range(3):\n",
        "  shutil.unpack_archive(\n",
        "      f\"/content/drive/MyDrive/All_Spectrogramms/\"\\\n",
        "      f\"All_Spectrogramms{i}.zip\", \"/content/data/\")"
      ],
      "metadata": {
        "id": "off5oiVgPz8V"
      },
      "execution_count": 3,
      "outputs": []
    },
    {
      "cell_type": "code",
      "source": [
        "# extract all images of the second folder\n",
        "\n",
        "for i in range(4, 16):\n",
        "  shutil.unpack_archive(\n",
        "      f\"/content/drive/MyDrive/All_Spectrogramms (1)/\"\\\n",
        "      f\"All_Spectrogramms{i}.zip\", \"/content/data/\")"
      ],
      "metadata": {
        "id": "5rHTskCWH97F"
      },
      "execution_count": 4,
      "outputs": []
    },
    {
      "cell_type": "code",
      "source": [
        "# delete all empty folders\n",
        "\n",
        "DATA_DIR = \"/content/data/\"\n",
        "for item in os.listdir(\"/content/data/\"):\n",
        "  if len(os.listdir(os.path.join(DATA_DIR, item))) == 0:\n",
        "    os.rmdir(os.path.join(DATA_DIR, item))"
      ],
      "metadata": {
        "id": "zJt_GKMYoJr5"
      },
      "execution_count": 5,
      "outputs": []
    },
    {
      "cell_type": "code",
      "source": [
        "# read original data and store it in separated in images and labels\n",
        "\n",
        "total_images = []\n",
        "total_labels = []\n",
        "\n",
        "for root, dirs, files in os.walk(DATA_DIR):\n",
        "    for file in files:\n",
        "        if file.endswith(\".jpg\"):\n",
        "            path = os.path.join(root, file)\n",
        "            total_images.append(path)\n",
        "            #Extract the name of class from the root\n",
        "            total_labels.append(root.split(os.path.sep)[-1])\n",
        "\n",
        "print('Image Root: ', total_images[0])\n",
        "print('Label: ', total_labels[0])"
      ],
      "metadata": {
        "id": "tnWEcZZIun6D",
        "colab": {
          "base_uri": "https://localhost:8080/"
        },
        "outputId": "e6da3ca8-25a5-448d-c208-d4ccb72327f9"
      },
      "execution_count": 6,
      "outputs": [
        {
          "output_type": "stream",
          "name": "stdout",
          "text": [
            "Image Root:  /content/data/spectral_contrast/Rock/137632_spectral_contrast.jpg\n",
            "Label:  Rock\n"
          ]
        }
      ]
    },
    {
      "cell_type": "code",
      "source": [
        "# check number of total images\n",
        "\n",
        "len(total_images)"
      ],
      "metadata": {
        "id": "XXmIV-YcwFP0",
        "colab": {
          "base_uri": "https://localhost:8080/"
        },
        "outputId": "7a24de8a-92b3-4b65-d55e-376e211703da"
      },
      "execution_count": 7,
      "outputs": [
        {
          "output_type": "execute_result",
          "data": {
            "text/plain": [
              "22491"
            ]
          },
          "metadata": {},
          "execution_count": 7
        }
      ]
    },
    {
      "cell_type": "code",
      "source": [
        "# check the shape of the data and the aspect ratio of the images\n",
        "#   for the shape the first twenty different shapes will be stored\n",
        "#   and for the aspect ratio of the images the first 100 different\n",
        "\n",
        "list_of_shapes = list()\n",
        "list_of_formats = list()\n",
        "for path in total_images:\n",
        "  image_temp = cv2.imread(path)\n",
        "  image_shape_temp = image_temp.shape\n",
        "  list_of_shapes.append(image_shape_temp)\n",
        "  list_of_formats.append(image_shape_temp[0]/image_shape_temp[1])"
      ],
      "metadata": {
        "id": "HDZ43lrNuUa2"
      },
      "execution_count": 8,
      "outputs": []
    },
    {
      "cell_type": "code",
      "source": [
        "# print the maximum and minimum shape object\n",
        "\n",
        "print(f\"\"\"Smallest detected shape: {list(sorted(list_of_shapes))[0]}\n",
        "Largest detected shape: {list(sorted(list_of_shapes))[-1]}\"\"\")"
      ],
      "metadata": {
        "id": "3fiNBb3xubwT",
        "colab": {
          "base_uri": "https://localhost:8080/"
        },
        "outputId": "8d539666-b38f-4b1b-f173-74a8356440a3"
      },
      "execution_count": 9,
      "outputs": [
        {
          "output_type": "stream",
          "name": "stdout",
          "text": [
            "Smallest detected shape: (7, 22, 3)\n",
            "Largest detected shape: (128, 1293, 3)\n"
          ]
        }
      ]
    },
    {
      "cell_type": "code",
      "source": [
        "# get an overview of different exisiting shapes\n",
        "\n",
        "pd.Series(list_of_shapes).value_counts()"
      ],
      "metadata": {
        "id": "LIlwlXLWvDiR",
        "colab": {
          "base_uri": "https://localhost:8080/"
        },
        "outputId": "e273db28-246a-4ca1-f3ec-a66f45bc696a"
      },
      "execution_count": 10,
      "outputs": [
        {
          "output_type": "execute_result",
          "data": {
            "text/plain": [
              "(12, 1291, 3)     3963\n",
              "(128, 1291, 3)    3963\n",
              "(7, 1291, 3)      3963\n",
              "(7, 1293, 3)      3142\n",
              "(12, 1293, 3)     3142\n",
              "(128, 1293, 3)    3142\n",
              "(7, 1292, 3)       389\n",
              "(128, 1292, 3)     389\n",
              "(12, 1292, 3)      389\n",
              "(12, 66, 3)          1\n",
              "(12, 70, 3)          1\n",
              "(128, 66, 3)         1\n",
              "(128, 70, 3)         1\n",
              "(128, 22, 3)         1\n",
              "(7, 22, 3)           1\n",
              "(7, 66, 3)           1\n",
              "(7, 70, 3)           1\n",
              "(12, 22, 3)          1\n",
              "dtype: int64"
            ]
          },
          "metadata": {},
          "execution_count": 10
        }
      ]
    },
    {
      "cell_type": "code",
      "source": [
        "# function to resize images to one specific size\n",
        "\n",
        "def resize_image(image_path, new_width, new_height):\n",
        "    # Load the image\n",
        "    image = cv2.imread(image_path)\n",
        "\n",
        "    # Resize the image\n",
        "    resized_image = cv2.resize(image, (new_width, new_height), interpolation=cv2.INTER_LINEAR)\n",
        "\n",
        "    # Save the resized image\n",
        "    cv2.imwrite(image_path, resized_image)"
      ],
      "metadata": {
        "id": "NQRxOCS8xvkU"
      },
      "execution_count": 11,
      "outputs": []
    },
    {
      "cell_type": "code",
      "source": [
        "# resize all images that have a width over the default 1291\n",
        "#   and delete all smaller image outlier\n",
        "\n",
        "indices_to_delete: list = []\n",
        "for counter, item in enumerate(list_of_shapes):\n",
        "  if item[1] > 1290:\n",
        "    resize_image(total_images[counter], 1290, item[0])\n",
        "  elif item[1] < 1290:\n",
        "    os.remove(total_images[counter])"
      ],
      "metadata": {
        "id": "CSVObCaEuedz"
      },
      "execution_count": 12,
      "outputs": []
    },
    {
      "cell_type": "code",
      "source": [
        "# define target path for the images\n",
        "\n",
        "target_path_spectrograms = \"/content/drive/MyDrive/AllSpectrogramsASS/\"\n",
        "# shutil.rmtree(target_path_spectrograms)\n",
        "if not os.path.exists(target_path_spectrograms):\n",
        "  shutil.copytree(\"/content/data/\", target_path_spectrograms)"
      ],
      "metadata": {
        "id": "_cP_8w-IqOeu"
      },
      "execution_count": 13,
      "outputs": []
    },
    {
      "cell_type": "code",
      "source": [
        "# read original data and store it in separated in images and labels\n",
        "#   duplicate of one cell above to not consider already deleted images\n",
        "\n",
        "total_images = []\n",
        "total_labels = []\n",
        "\n",
        "for root, dirs, files in os.walk(DATA_DIR):\n",
        "    for file in files:\n",
        "        if file.endswith(\".jpg\"):\n",
        "            path = os.path.join(root, file)\n",
        "            total_images.append(path)\n",
        "            #Extract the name of class from the root\n",
        "            total_labels.append(root.split(os.path.sep)[-1])\n",
        "\n",
        "print('Image Root: ', total_images[0])\n",
        "print('Label: ', total_labels[0])"
      ],
      "metadata": {
        "colab": {
          "base_uri": "https://localhost:8080/"
        },
        "id": "3dZDGT4ZKXa-",
        "outputId": "8ca320be-3758-446d-f8b7-1748da684d1d"
      },
      "execution_count": 14,
      "outputs": [
        {
          "output_type": "stream",
          "name": "stdout",
          "text": [
            "Image Root:  /content/data/spectral_contrast/Rock/137632_spectral_contrast.jpg\n",
            "Label:  Rock\n"
          ]
        }
      ]
    },
    {
      "cell_type": "code",
      "source": [
        "# display new lenght --> 9 images less\n",
        "\n",
        "len(total_images)"
      ],
      "metadata": {
        "colab": {
          "base_uri": "https://localhost:8080/"
        },
        "id": "Gways5jLKX-1",
        "outputId": "c46b6ef9-69fb-4290-f7fb-86ce4880f44e"
      },
      "execution_count": 15,
      "outputs": [
        {
          "output_type": "execute_result",
          "data": {
            "text/plain": [
              "22482"
            ]
          },
          "metadata": {},
          "execution_count": 15
        }
      ]
    },
    {
      "cell_type": "code",
      "source": [
        "# split image in nearly ten parts --> 3 second snippets\n",
        "\n",
        "for path in tqdm(total_images):\n",
        "  image_temp = cv2.imread(path)\n",
        "  for counter, i in enumerate(range(0, 1280, 64)):\n",
        "    target_dir = \"data_3_seconds/\"+path.split(\"/\")[2]+\"/\"+path.split(\"/\")[3]+\"/\"+path.split(\"/\")[4]+\"/\"\n",
        "    os.makedirs(target_dir, exist_ok = True)\n",
        "    target_path = path.split(\"/\")[-1].split(\".\")[0] + str(counter) + \".jpg\"\n",
        "    cv2.imwrite(target_dir + target_path, image_temp[:, i:(i+128), :])"
      ],
      "metadata": {
        "colab": {
          "base_uri": "https://localhost:8080/"
        },
        "id": "9jBGlqsgKnA3",
        "outputId": "991edcd0-9333-440a-a591-78d27003e72e"
      },
      "execution_count": 28,
      "outputs": [
        {
          "output_type": "stream",
          "name": "stderr",
          "text": [
            "100%|██████████| 22482/22482 [03:45<00:00, 99.87it/s] \n"
          ]
        }
      ]
    },
    {
      "cell_type": "code",
      "source": [
        "# archive the created three seconds images on google drive for persistence\n",
        "\n",
        "output_dir = \"/content/drive/MyDrive/AllSpectrograms3Seconds\"\n",
        "shutil.make_archive(output_dir, \"zip\", f\"/content/data_3_seconds/data/\")"
      ],
      "metadata": {
        "colab": {
          "base_uri": "https://localhost:8080/",
          "height": 36
        },
        "id": "kIb17BsM7f2Y",
        "outputId": "584176b9-4615-4ad9-99ea-567ffc9c2c84"
      },
      "execution_count": 30,
      "outputs": [
        {
          "output_type": "execute_result",
          "data": {
            "text/plain": [
              "'/content/drive/MyDrive/AllSpectrograms3Seconds.zip'"
            ],
            "application/vnd.google.colaboratory.intrinsic+json": {
              "type": "string"
            }
          },
          "metadata": {},
          "execution_count": 30
        }
      ]
    }
  ]
}