{
 "cells": [
  {
   "cell_type": "code",
   "execution_count": null,
   "metadata": {},
   "outputs": [],
   "source": [
    "import requests\n",
    "import json"
   ]
  },
  {
   "attachments": {},
   "cell_type": "markdown",
   "metadata": {},
   "source": [
    "### Get Bearer Token for further requests"
   ]
  },
  {
   "cell_type": "code",
   "execution_count": null,
   "metadata": {},
   "outputs": [],
   "source": [
    "# get client id and secret at https://developer.spotify.com/dashboard -> project -> settings\n",
    "# store secret in the secret.txt file (DO NOT PUSH TO GITHUB)\n",
    "\n",
    "client_id = \"fccc6625feab4a0e818cd573c10e00ed\"\n",
    "\n",
    "with open('secret.txt') as f:\n",
    "    client_secret = f.readline()"
   ]
  },
  {
   "cell_type": "code",
   "execution_count": null,
   "metadata": {},
   "outputs": [],
   "source": [
    "# receive bearer token, valid for one hour\n",
    "\n",
    "def get_token(client_id, client_secret):\n",
    "    response = requests.request(\"POST\",\n",
    "                                f\"https://accounts.spotify.com/api/token?grant_type=client_credentials&client_id={client_id}&client_secret={client_secret}\",\n",
    "                                headers={\"Content-Type\": \"application/x-www-form-urlencoded\"})\n",
    "    if response.status_code != 200:\n",
    "        raise Exception(response.status_code, response.text)\n",
    "    else:\n",
    "        return response.json()[\"access_token\"]\n",
    "    \n",
    "headers = {\"Authorization\": f\"Bearer {get_token(client_id, client_secret)}\"}"
   ]
  },
  {
   "cell_type": "code",
   "execution_count": null,
   "metadata": {},
   "outputs": [],
   "source": [
    "# function for simple api requests, returns response json\n",
    "\n",
    "def api_request(url, headers):\n",
    "    response = requests.request(\"GET\", url, headers=headers)\n",
    "    if response.status_code != 200:\n",
    "        raise Exception(response.status_code, response.text)\n",
    "    else:\n",
    "        print(\"success!\")\n",
    "        return response.json()"
   ]
  },
  {
   "cell_type": "code",
   "execution_count": null,
   "metadata": {},
   "outputs": [],
   "source": [
    "# pretty print json responses\n",
    "\n",
    "def pprintjson(x):\n",
    "    print(json.dumps(x, indent=2))"
   ]
  },
  {
   "attachments": {},
   "cell_type": "markdown",
   "metadata": {},
   "source": [
    "## Search for song"
   ]
  },
  {
   "cell_type": "code",
   "execution_count": null,
   "metadata": {},
   "outputs": [],
   "source": [
    "track = \"weapon\"\n",
    "artist = \"Against The Current\"\n",
    "\n",
    "url = f\"https://api.spotify.com/v1/search?q=track:{track}%20artist:{artist}&type=track&limit=1\"\n",
    "\n",
    "result = api_request(url, headers)\n",
    "\n",
    "# pprintjson(result[\"tracks\"][\"items\"][0])\n",
    "song_id = result[\"tracks\"][\"items\"][0][\"id\"]\n",
    "song_id"
   ]
  },
  {
   "attachments": {},
   "cell_type": "markdown",
   "metadata": {},
   "source": [
    "## Get song data"
   ]
  },
  {
   "cell_type": "code",
   "execution_count": null,
   "metadata": {},
   "outputs": [],
   "source": [
    "# audio feature reference https://developer.spotify.com/documentation/web-api/reference/get-audio-features\n",
    "\n",
    "url = f\"https://api.spotify.com/v1/audio-features/{song_id}\"\n",
    "\n",
    "result = api_request(url, headers)\n",
    "\n",
    "result"
   ]
  }
 ],
 "metadata": {
  "kernelspec": {
   "display_name": "Python 3",
   "language": "python",
   "name": "python3"
  },
  "language_info": {
   "codemirror_mode": {
    "name": "ipython",
    "version": 3
   },
   "file_extension": ".py",
   "mimetype": "text/x-python",
   "name": "python",
   "nbconvert_exporter": "python",
   "pygments_lexer": "ipython3",
   "version": "3.9.2"
  },
  "orig_nbformat": 4
 },
 "nbformat": 4,
 "nbformat_minor": 2
}
