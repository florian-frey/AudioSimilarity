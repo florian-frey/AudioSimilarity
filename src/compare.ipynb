{
 "cells": [
  {
   "cell_type": "code",
   "execution_count": null,
   "metadata": {},
   "outputs": [],
   "source": [
    "import librosa\n",
    "import numpy as np\n",
    "import matplotlib.pyplot as plt\n",
    "import IPython\n",
    "from utils import *"
   ]
  },
  {
   "cell_type": "code",
   "execution_count": null,
   "metadata": {},
   "outputs": [],
   "source": [
    "# song1 = \"..\\\\data\\\\weapon.mp3\"\n",
    "# song2 = \"..\\\\data\\\\crushed.mp3\"\n",
    "song1 = librosa.example('sweetwaltz')\n",
    "song2 = librosa.example('pistachio')"
   ]
  },
  {
   "cell_type": "code",
   "execution_count": null,
   "metadata": {},
   "outputs": [],
   "source": [
    "y1, sr1 = librosa.load(song1)\n",
    "y2, sr2 = librosa.load(song2)\n",
    "\n",
    "print(f\"Estimated BPMs: {bpm(y1, sr1)} and {bpm(y2, sr2)}\")"
   ]
  },
  {
   "cell_type": "code",
   "execution_count": null,
   "metadata": {},
   "outputs": [],
   "source": [
    "tempogram1 = librosa.feature.tempogram(y=y1, sr=sr1)\n",
    "tgr1 = librosa.feature.tempogram_ratio(tg=tempogram1, sr=sr1)\n",
    "\n",
    "tempogram2 = librosa.feature.tempogram(y=y2, sr=sr2)\n",
    "tgr2 = librosa.feature.tempogram_ratio(tg=tempogram2, sr=sr2)"
   ]
  },
  {
   "cell_type": "code",
   "execution_count": null,
   "metadata": {},
   "outputs": [],
   "source": [
    "len(tgr1[1]), len(tgr2[1])"
   ]
  },
  {
   "cell_type": "code",
   "execution_count": null,
   "metadata": {},
   "outputs": [],
   "source": [
    "if len(tgr1[1]) < len(tgr2[1]):\n",
    "    dif = abs(tgr1 - tgr2[:,:len(tgr1[1])])\n",
    "elif len(tgr1[1]) > len(tgr2[1]):\n",
    "    dif = abs(tgr2 - tgr1[:,:len(tgr2[1])])\n",
    "else:\n",
    "    dif = abs(tgr1 - tgr2)"
   ]
  },
  {
   "cell_type": "code",
   "execution_count": null,
   "metadata": {},
   "outputs": [],
   "source": [
    "sim = (-1 * dif) + 1"
   ]
  },
  {
   "cell_type": "code",
   "execution_count": null,
   "metadata": {},
   "outputs": [],
   "source": [
    "fig, ax = plt.subplots(nrows=3, sharex=True)\n",
    "librosa.display.specshow(tgr1, x_axis='time', ax=ax[0])\n",
    "librosa.display.specshow(tgr2, x_axis='time', ax=ax[1])\n",
    "librosa.display.specshow(sim, x_axis='time', ax=ax[2])\n",
    "ax[0].label_outer()\n",
    "ax[1].label_outer()\n",
    "ax[0].set(title=\"Tempogram ratio song 1\")\n",
    "ax[1].set(title=\"Tempogram ratio song 2\")\n",
    "ax[2].set(title=\"Tempogram ratio similarity\")\n",
    "plt.tight_layout()\n",
    "plt.show()"
   ]
  },
  {
   "cell_type": "code",
   "execution_count": null,
   "metadata": {},
   "outputs": [],
   "source": [
    "fig, ax = plt.subplots(nrows=2, sharex=True)\n",
    "\n",
    "plt1 = librosa.display.specshow(dif, x_axis='time', ax=ax[0], vmin=0, vmax=1)\n",
    "plt2 = librosa.display.specshow(sim, x_axis='time', ax=ax[1], vmin=0, vmax=1)\n",
    "\n",
    "ax[0].label_outer()\n",
    "ax[0].set(title=\"Tempogram difference\")\n",
    "ax[1].set(title=\"Tempogram similarity\")\n",
    "plt.tight_layout()\n",
    "fig.subplots_adjust(right=0.8)\n",
    "cbar_ax = fig.add_axes([0.85, 0.15, 0.05, 0.75])\n",
    "fig.colorbar(plt1, cax=cbar_ax)\n",
    "\n",
    "plt.show()"
   ]
  },
  {
   "cell_type": "code",
   "execution_count": null,
   "metadata": {},
   "outputs": [],
   "source": [
    "sim_mean = np.zeros((2, len(tgr1[1])))\n",
    "sim_mean[:, :] = [sim[:, _].mean() for _ in range(len(tgr1[1]))]"
   ]
  },
  {
   "cell_type": "code",
   "execution_count": null,
   "metadata": {},
   "outputs": [],
   "source": [
    "librosa.display.specshow(sim_mean, x_axis='time', vmin=0, vmax=1)\n",
    "plt.colorbar()\n",
    "plt.show()"
   ]
  }
 ],
 "metadata": {
  "kernelspec": {
   "display_name": "Python 3",
   "language": "python",
   "name": "python3"
  },
  "language_info": {
   "codemirror_mode": {
    "name": "ipython",
    "version": 3
   },
   "file_extension": ".py",
   "mimetype": "text/x-python",
   "name": "python",
   "nbconvert_exporter": "python",
   "pygments_lexer": "ipython3",
   "version": "3.9.2"
  },
  "orig_nbformat": 4
 },
 "nbformat": 4,
 "nbformat_minor": 2
}
