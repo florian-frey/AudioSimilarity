{
 "cells": [
  {
   "cell_type": "code",
   "execution_count": null,
   "metadata": {},
   "outputs": [],
   "source": [
    "import pandas as pd\n",
    "data = pd.read_csv(\"../fma-metadata/tracks.csv\", index_col=0, header=[0, 1])\n",
    "data.head()"
   ]
  },
  {
   "cell_type": "code",
   "execution_count": null,
   "metadata": {},
   "outputs": [],
   "source": [
    "import psycopg2\n",
    "\n",
    "conn = psycopg2.connect(\"dbname=fma user=postgres password=kiwibrezel\")\n",
    "cursor = conn.cursor()\n",
    "\n",
    "\n",
    "# cursor.execute(\"\"\"\n",
    "#     CREATE TABLE tracks (\n",
    "#         track_id            INT PRIMARY KEY,\n",
    "#         track_title         VARCHAR NOT NULL,\n",
    "#         track_bit_rate      INT,\n",
    "#         track_date_recorded DATE,\n",
    "#         track_duration      INT,\n",
    "#         track_genre_top     VARCHAR,\n",
    "#         track_genres        VARCHAR,\n",
    "#         track_language_code VARCHAR,\n",
    "#         track_tags          VARCHAR,\n",
    "#         track_publisher     VARCHAR,\n",
    "#         album_title         VARCHAR,\n",
    "#         album_tracks        INT,\n",
    "#         album_type          VARCHAR,\n",
    "#         album_date_released DATE,\n",
    "#         artist_name         VARCHAR,\n",
    "#         artist_location     VARCHAR\n",
    "#         )\n",
    "#                \"\"\")\n",
    "\n",
    "\n",
    "for idx, row in data.iterrows():\n",
    "    cursor.execute('''\n",
    "                INSERT INTO tracks (track_id, track_title, track_bit_rate, track_date_recorded, track_duration, track_genre_top,\n",
    "                track_genres, track_language_code, track_tags, track_publisher, album_title, album_tracks, album_type, album_date_released,\n",
    "                artist_name, artist_location) VALUES (\n",
    "                VALUES (%s,%s,%s,%s,%s,%s,%s,%s,%s,%s,%s,%s,%s,%s,%s,%s);\n",
    "                ''',\n",
    "                (\n",
    "                idx,\n",
    "                row[\"track\", \"title\"],\n",
    "                row[\"track\", \"bit_rate\"],\n",
    "                row[\"track\", \"date_recorded\"],\n",
    "                row[\"track\", \"duration\"],\n",
    "                row[\"track\", \"genre_top\"],\n",
    "                row[\"track\", \"genres\"],\n",
    "                row[\"track\", \"language_code\"],\n",
    "                row[\"track\", \"tags\"],\n",
    "                row[\"track\", \"publisher\"],\n",
    "                row[\"album\", \"title\"],\n",
    "                row[\"album\", \"tracks\"],\n",
    "                row[\"album\", \"type\"],\n",
    "                row[\"album\", \"date_released\"],\n",
    "                row[\"artist\", \"name\"],\n",
    "                row[\"artist\", \"location\"]\n",
    "                ))\n",
    "\n",
    "conn.commit()\n",
    "cursor.close()\n",
    "conn.close()"
   ]
  }
 ],
 "metadata": {
  "kernelspec": {
   "display_name": "Python 3",
   "language": "python",
   "name": "python3"
  },
  "language_info": {
   "codemirror_mode": {
    "name": "ipython",
    "version": 3
   },
   "file_extension": ".py",
   "mimetype": "text/x-python",
   "name": "python",
   "nbconvert_exporter": "python",
   "pygments_lexer": "ipython3",
   "version": "3.9.2"
  },
  "orig_nbformat": 4
 },
 "nbformat": 4,
 "nbformat_minor": 2
}
