{
 "cells": [
  {
   "cell_type": "code",
   "execution_count": null,
   "metadata": {},
   "outputs": [],
   "source": [
    "import librosa\n",
    "import numpy as np\n",
    "import matplotlib.pyplot as plt\n",
    "import IPython\n",
    "from scipy.spatial.distance import euclidean, mahalanobis\n",
    "from dtw import dtw\n",
    "from utils import *"
   ]
  },
  {
   "cell_type": "code",
   "execution_count": null,
   "metadata": {},
   "outputs": [],
   "source": [
    "audiofile = \"..\\\\data\\\\live-hip-hop-loop-81bpm-131102.mp3\""
   ]
  },
  {
   "cell_type": "code",
   "execution_count": null,
   "metadata": {},
   "outputs": [],
   "source": [
    "y, sr = librosa.load(audiofile)#, sr=22050, mono=True, offset=0.0, duration=50, res_type='kaiser_best')"
   ]
  },
  {
   "attachments": {},
   "cell_type": "markdown",
   "metadata": {},
   "source": [
    "## Playing Audio inside Jupyter Notebook"
   ]
  },
  {
   "cell_type": "code",
   "execution_count": null,
   "metadata": {},
   "outputs": [],
   "source": [
    "IPython.display.Audio(audiofile)"
   ]
  },
  {
   "attachments": {},
   "cell_type": "markdown",
   "metadata": {},
   "source": [
    "## Simple Visualization\n",
    "\n",
    "**Sampling**\n",
    "\n",
    "Sound is a continuous wave. We can digitise sound by breaking the continuous wave into discrete signals. This process is called sampling. Sampling converts a sound wave into a sequence of samples or a discrete-time signal.\n",
    "\n",
    "The load functions loads the audio file and converts it into an array of values which represent the amplitude if a sample at a given point of time.\n",
    "\n",
    "**Sampling Rate**\n",
    "\n",
    "The sampling rate is the number of samples per second. Hz or Hertz is the unit of the sampling rate. 20 kHz is the audible range for human beings."
   ]
  },
  {
   "cell_type": "code",
   "execution_count": null,
   "metadata": {},
   "outputs": [],
   "source": [
    "# plt.figure(figsize=(15,4))\n",
    "librosa.display.waveshow(y, sr=sr, max_points=5000, axis='time', transpose=False)"
   ]
  },
  {
   "cell_type": "code",
   "execution_count": null,
   "metadata": {},
   "outputs": [],
   "source": [
    "# https://librosa.org/doc/main/auto_examples/plot_display.html\n",
    "D = librosa.stft(y)  # STFT of y\n",
    "S_db = librosa.amplitude_to_db(np.abs(D), ref=np.max)\n",
    "plt.figure()\n",
    "librosa.display.specshow(S_db, x_axis='time', y_axis='linear')\n",
    "plt.colorbar(format=\"%+2.f dB\")"
   ]
  },
  {
   "attachments": {},
   "cell_type": "markdown",
   "metadata": {},
   "source": [
    "## Beat Tracker"
   ]
  },
  {
   "cell_type": "code",
   "execution_count": null,
   "metadata": {},
   "outputs": [],
   "source": [
    "# audiofile = librosa.example('sweetwaltz')\n",
    "# y, sr = librosa.load(audiofile)\n",
    "\n",
    "# Run the default beat tracker\n",
    "tempo, beat_frames = librosa.beat.beat_track(y=y, sr=sr)\n",
    "\n",
    "print(f\"Estimated {round(tempo)} BPM\")\n",
    "\n",
    "# Convert the frame indices of beat events into timestamps\n",
    "beat_times = librosa.frames_to_time(beat_frames, sr=sr)"
   ]
  },
  {
   "cell_type": "code",
   "execution_count": null,
   "metadata": {},
   "outputs": [],
   "source": [
    "audio_len = len(y) / sr\n",
    "timestamps = np.linspace(0, audio_len, num=len(y))\n",
    "\n",
    "plt.figure(figsize=(20, 4))\n",
    "plt.plot(timestamps, y)\n",
    "plt.title(\"Beat Tracker Example\")\n",
    "plt.ylabel('Signal Value')\n",
    "plt.xlabel('Time (s)')\n",
    "plt.vlines([beat_times], ymin=-1, ymax=1, linestyles=\"dashed\", colors=\"black\", linewidth=1)\n",
    "# plt.xlim(0, 10)\n",
    "plt.show()"
   ]
  },
  {
   "attachments": {},
   "cell_type": "markdown",
   "metadata": {},
   "source": [
    "## Tempogram"
   ]
  },
  {
   "cell_type": "code",
   "execution_count": null,
   "metadata": {},
   "outputs": [],
   "source": [
    "tempogram = librosa.feature.tempogram(y=y, sr=sr)\n",
    "tgr = librosa.feature.tempogram_ratio(tg=tempogram, sr=sr)\n",
    "fig, ax = plt.subplots(nrows=2, sharex=True)\n",
    "librosa.display.specshow(tempogram, x_axis='time', y_axis='tempo',\n",
    "                         ax=ax[0])\n",
    "librosa.display.specshow(tgr, x_axis='time', ax=ax[1])\n",
    "ax[0].label_outer()\n",
    "ax[0].set(title=\"Tempogram\")\n",
    "ax[1].set(title=\"Tempogram ratio\")"
   ]
  },
  {
   "attachments": {},
   "cell_type": "markdown",
   "metadata": {},
   "source": [
    "## Mel Frequency Cepstral Coefficent"
   ]
  },
  {
   "cell_type": "code",
   "execution_count": null,
   "metadata": {},
   "outputs": [],
   "source": [
    "#https://github.com/d4r3topk/comparing-audio-files-python/blob/master/mfcc.py\n",
    "# Calculating MFCC's and comparing by DTW using python in-built modules\n",
    "\n",
    "#Loading audio files\n",
    "y1, sr1 = librosa.load('..\\\\data\\\\kingslayer.mp3') \n",
    "y2, sr2 = librosa.load('..\\\\data\\\\crushed.mp3') \n",
    "\n",
    "# Showing multiple plots using subplot\n",
    "plt.subplot(1, 2, 1) \n",
    "mfcc1 = librosa.feature.mfcc(y=y1,sr=sr1)   # Computing MFCC values\n",
    "librosa.display.specshow(mfcc1)\n",
    "\n",
    "plt.subplot(1, 2, 2)\n",
    "mfcc2 = librosa.feature.mfcc(y=y2, sr=sr2)\n",
    "librosa.display.specshow(mfcc2)\n",
    "\n",
    "dist, _, cost, path = dtw(mfcc1.T, mfcc2.T, dist=euclidean)\n",
    "print(\"The normalized distance between the two : \", dist)   # 0 for similar audios \n",
    "\n",
    "plt.imshow(cost.T, origin='lower', cmap=plt.get_cmap('gray'), interpolation='nearest')\n",
    "plt.plot(path[0], path[1], 'w')   # creating plot for DTW\n",
    "\n",
    "plt.show()  # To display the plots graphically"
   ]
  }
 ],
 "metadata": {
  "kernelspec": {
   "display_name": "Python 3",
   "language": "python",
   "name": "python3"
  },
  "language_info": {
   "codemirror_mode": {
    "name": "ipython",
    "version": 3
   },
   "file_extension": ".py",
   "mimetype": "text/x-python",
   "name": "python",
   "nbconvert_exporter": "python",
   "pygments_lexer": "ipython3",
   "version": "3.9.2"
  },
  "orig_nbformat": 4
 },
 "nbformat": 4,
 "nbformat_minor": 2
}
