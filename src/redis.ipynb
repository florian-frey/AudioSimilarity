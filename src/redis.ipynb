{
 "cells": [
  {
   "cell_type": "code",
   "execution_count": 1,
   "metadata": {},
   "outputs": [],
   "source": [
    "import os\n",
    "import pandas as pd\n",
    "import numpy as np\n",
    "from tqdm import tqdm\n",
    "import redis\n",
    "from redis import Redis\n",
    "from redis.commands.search.query import Query\n",
    "from redis.commands.search.indexDefinition import IndexDefinition, IndexType\n",
    "from redis.commands.search.field import VectorField, TagField, TextField, NumericField"
   ]
  },
  {
   "cell_type": "markdown",
   "metadata": {},
   "source": [
    "# Import Data"
   ]
  },
  {
   "cell_type": "code",
   "execution_count": null,
   "metadata": {},
   "outputs": [],
   "source": [
    "df = pd.read_csv(\"../fma-metadata/tracks.csv\", index_col=0, header=[0,1])\n",
    "df.head()"
   ]
  },
  {
   "cell_type": "markdown",
   "metadata": {},
   "source": [
    "# Redis Connection"
   ]
  },
  {
   "cell_type": "code",
   "execution_count": 2,
   "metadata": {},
   "outputs": [],
   "source": [
    "redis_conn = Redis(host=os.environ.get('REDIS_ADDRESS', 'localhost'), port=6379, password=os.environ.get('REDIS_PASSWORD', None))"
   ]
  },
  {
   "cell_type": "markdown",
   "metadata": {},
   "source": [
    "# Redis Database Definition"
   ]
  },
  {
   "cell_type": "markdown",
   "metadata": {},
   "source": [
    "### Definition of Fields"
   ]
  },
  {
   "cell_type": "code",
   "execution_count": 3,
   "metadata": {},
   "outputs": [],
   "source": [
    "index_name = \"audiosimilarity\"\n",
    "distance_metric:str=\"COSINE\"\n",
    "DIM = 100\n",
    "\n",
    "track_title = TextField(name=\"track_title\")\n",
    "album_title = TextField(name=\"album_title\")\n",
    "artist_name = TextField(name=\"artist_name\")\n",
    "track_publisher = TextField(name=\"track_publisher\")\n",
    "\n",
    "album_tracks = NumericField(name=\"album_tracks\")\n",
    "bit_rate = NumericField(name=\"bit_rate\")\n",
    "duration = NumericField(name=\"duration\")\n",
    "genre_top = TextField(name=\"genre_top\")\n",
    "\n",
    "language_code = TextField(name=\"language_code\")\n",
    "album_date_released = TextField(name=\"album_date_released\")\n",
    "\n",
    "feature_vector = VectorField(index_name,\n",
    "            \"HNSW\", {\n",
    "                \"TYPE\": \"FLOAT32\",\n",
    "                \"DIM\": DIM,\n",
    "                \"DISTANCE_METRIC\": distance_metric,\n",
    "                \"INITIAL_CAP\": 10000,\n",
    "            })"
   ]
  },
  {
   "cell_type": "markdown",
   "metadata": {},
   "source": [
    "### Create index"
   ]
  },
  {
   "cell_type": "code",
   "execution_count": null,
   "metadata": {},
   "outputs": [],
   "source": [
    "redis_conn.ft(index_name).create_index(\n",
    "    fields = [track_title, album_title, artist_name, track_publisher, album_tracks, bit_rate, duration, genre_top, language_code, album_date_released, feature_vector],\n",
    "    definition = IndexDefinition(prefix=[index_name], index_type=IndexType.HASH)\n",
    ")"
   ]
  },
  {
   "cell_type": "markdown",
   "metadata": {},
   "source": [
    "# Populate Database"
   ]
  },
  {
   "cell_type": "code",
   "execution_count": null,
   "metadata": {},
   "outputs": [],
   "source": [
    "for track_id, row in tqdm(df.iloc[:10,:].iterrows()):\n",
    "\n",
    "    row = row.replace({pd.NaT: \"null\"})\n",
    "\n",
    "    redis_conn.hset(\n",
    "        f\"{index_name}:{track_id}\",\n",
    "        mapping={\n",
    "            \"track_title\": row[\"track\", \"title\"],\n",
    "            \"album_title\": row[\"album\", \"title\"],\n",
    "            \"artist_name\": row[\"artist\", \"name\"],\n",
    "            \"track_publisher\": row[\"track\", \"publisher\"],\n",
    "            \"album_tracks\":  row[\"album\", \"tracks\"],\n",
    "            \"bit_rate\": row[\"track\", \"bit_rate\"],\n",
    "            \"duration\": row[\"track\", \"duration\"],\n",
    "            \"genre_top\": row[\"track\", \"genre_top\"],\n",
    "            \"language_code\": row[\"track\", \"language_code\"],\n",
    "            \"album_date_released\": row[\"album\", \"date_released\"],\n",
    "            \"feature_vector\": np.random.rand(DIM).astype(dtype=np.float32).tobytes()\n",
    "        }\n",
    "    )"
   ]
  },
  {
   "cell_type": "markdown",
   "metadata": {},
   "source": [
    "# Test Query"
   ]
  },
  {
   "cell_type": "code",
   "execution_count": null,
   "metadata": {},
   "outputs": [],
   "source": [
    "# redis_conn.keys()"
   ]
  },
  {
   "cell_type": "code",
   "execution_count": null,
   "metadata": {},
   "outputs": [],
   "source": [
    "def base_query(return_fields: list=[], number_of_results: int=20):\n",
    "    base_query = f'*'\n",
    "    # return_fields = ['track_title','album_title','\"artist_name\"']\n",
    "    query = Query(base_query)\\\n",
    "        .paging(0, number_of_results)\\\n",
    "        .dialect(2)\n",
    "    \n",
    "    results = redis_conn.ft(index_name).search(query)\n",
    "\n",
    "    if results.docs:\n",
    "        return pd.DataFrame(list(map(lambda x: {'id': x.id, 'track' : x.track_title, 'album': x.album_title, 'artist': x.artist_name}, results.docs))).sort_values(by='id')\n",
    "        # return results.docs\n",
    "    else:\n",
    "        return pd.DataFrame()"
   ]
  },
  {
   "cell_type": "code",
   "execution_count": null,
   "metadata": {},
   "outputs": [],
   "source": [
    "def execute_query(np_vector:np.array, return_fields: list=[], search_type: str=\"KNN\", number_of_results: int=20, vector_field_name: str=\"embeddings\"):\n",
    "    base_query = f'=>[{search_type} {number_of_results} @{vector_field_name} $vec_param AS vector_score]'\n",
    "    query = Query(base_query)\\\n",
    "        .sort_by(\"vector_score\")\\\n",
    "        .paging(0, number_of_results)\\\n",
    "        .return_fields(return_fields)\\\n",
    "        .dialect(2)\n",
    "\n",
    "    params_dict = {\"vec_param\": np_vector.astype(dtype=np.float32).tobytes()}\n",
    "\n",
    "    results = redis_conn.ft(index_name).search(query, params_dict)\n",
    "    return pd.DataFrame(list(map(lambda x: {'id' : x.id, 'text': x.text, 'filename': x.filename, 'vector_score': x.vector_score}, results.docs)))"
   ]
  }
 ],
 "metadata": {
  "kernelspec": {
   "display_name": "Python 3",
   "language": "python",
   "name": "python3"
  },
  "language_info": {
   "codemirror_mode": {
    "name": "ipython",
    "version": 3
   },
   "file_extension": ".py",
   "mimetype": "text/x-python",
   "name": "python",
   "nbconvert_exporter": "python",
   "pygments_lexer": "ipython3",
   "version": "3.10.11"
  },
  "orig_nbformat": 4
 },
 "nbformat": 4,
 "nbformat_minor": 2
}
