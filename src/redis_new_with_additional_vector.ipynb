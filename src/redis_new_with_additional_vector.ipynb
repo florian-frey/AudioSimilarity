{
 "cells": [
  {
   "cell_type": "code",
   "execution_count": 1,
   "metadata": {},
   "outputs": [],
   "source": [
    "import os\n",
    "import pandas as pd\n",
    "import numpy as np\n",
    "from tqdm import tqdm\n",
    "from redis import Redis\n",
    "from redis.commands.search.query import Query\n",
    "from redis.commands.search.indexDefinition import IndexDefinition, IndexType\n",
    "from redis.commands.search.field import VectorField, TagField, TextField, NumericField"
   ]
  },
  {
   "cell_type": "markdown",
   "metadata": {},
   "source": [
    "# Import Data"
   ]
  },
  {
   "cell_type": "code",
   "execution_count": 8,
   "metadata": {},
   "outputs": [
    {
     "data": {
      "text/html": [
       "<div>\n",
       "<style scoped>\n",
       "    .dataframe tbody tr th:only-of-type {\n",
       "        vertical-align: middle;\n",
       "    }\n",
       "\n",
       "    .dataframe tbody tr th {\n",
       "        vertical-align: top;\n",
       "    }\n",
       "\n",
       "    .dataframe thead tr th {\n",
       "        text-align: left;\n",
       "    }\n",
       "\n",
       "    .dataframe thead tr:last-of-type th {\n",
       "        text-align: right;\n",
       "    }\n",
       "</style>\n",
       "<table border=\"1\" class=\"dataframe\">\n",
       "  <thead>\n",
       "    <tr>\n",
       "      <th></th>\n",
       "      <th colspan=\"10\" halign=\"left\">album</th>\n",
       "      <th>...</th>\n",
       "      <th colspan=\"10\" halign=\"left\">track</th>\n",
       "    </tr>\n",
       "    <tr>\n",
       "      <th></th>\n",
       "      <th>comments</th>\n",
       "      <th>date_created</th>\n",
       "      <th>date_released</th>\n",
       "      <th>engineer</th>\n",
       "      <th>favorites</th>\n",
       "      <th>id</th>\n",
       "      <th>information</th>\n",
       "      <th>listens</th>\n",
       "      <th>producer</th>\n",
       "      <th>tags</th>\n",
       "      <th>...</th>\n",
       "      <th>information</th>\n",
       "      <th>interest</th>\n",
       "      <th>language_code</th>\n",
       "      <th>license</th>\n",
       "      <th>listens</th>\n",
       "      <th>lyricist</th>\n",
       "      <th>number</th>\n",
       "      <th>publisher</th>\n",
       "      <th>tags</th>\n",
       "      <th>title</th>\n",
       "    </tr>\n",
       "    <tr>\n",
       "      <th>track_id</th>\n",
       "      <th></th>\n",
       "      <th></th>\n",
       "      <th></th>\n",
       "      <th></th>\n",
       "      <th></th>\n",
       "      <th></th>\n",
       "      <th></th>\n",
       "      <th></th>\n",
       "      <th></th>\n",
       "      <th></th>\n",
       "      <th></th>\n",
       "      <th></th>\n",
       "      <th></th>\n",
       "      <th></th>\n",
       "      <th></th>\n",
       "      <th></th>\n",
       "      <th></th>\n",
       "      <th></th>\n",
       "      <th></th>\n",
       "      <th></th>\n",
       "      <th></th>\n",
       "    </tr>\n",
       "  </thead>\n",
       "  <tbody>\n",
       "    <tr>\n",
       "      <th>2</th>\n",
       "      <td>0</td>\n",
       "      <td>2008-11-26 01:44:45</td>\n",
       "      <td>2009-01-05 00:00:00</td>\n",
       "      <td>NaN</td>\n",
       "      <td>4</td>\n",
       "      <td>1</td>\n",
       "      <td>&lt;p&gt;&lt;/p&gt;</td>\n",
       "      <td>6073</td>\n",
       "      <td>NaN</td>\n",
       "      <td>[]</td>\n",
       "      <td>...</td>\n",
       "      <td>NaN</td>\n",
       "      <td>4656</td>\n",
       "      <td>en</td>\n",
       "      <td>Attribution-NonCommercial-ShareAlike 3.0 Inter...</td>\n",
       "      <td>1293</td>\n",
       "      <td>NaN</td>\n",
       "      <td>3</td>\n",
       "      <td>NaN</td>\n",
       "      <td>[]</td>\n",
       "      <td>Food</td>\n",
       "    </tr>\n",
       "    <tr>\n",
       "      <th>3</th>\n",
       "      <td>0</td>\n",
       "      <td>2008-11-26 01:44:45</td>\n",
       "      <td>2009-01-05 00:00:00</td>\n",
       "      <td>NaN</td>\n",
       "      <td>4</td>\n",
       "      <td>1</td>\n",
       "      <td>&lt;p&gt;&lt;/p&gt;</td>\n",
       "      <td>6073</td>\n",
       "      <td>NaN</td>\n",
       "      <td>[]</td>\n",
       "      <td>...</td>\n",
       "      <td>NaN</td>\n",
       "      <td>1470</td>\n",
       "      <td>en</td>\n",
       "      <td>Attribution-NonCommercial-ShareAlike 3.0 Inter...</td>\n",
       "      <td>514</td>\n",
       "      <td>NaN</td>\n",
       "      <td>4</td>\n",
       "      <td>NaN</td>\n",
       "      <td>[]</td>\n",
       "      <td>Electric Ave</td>\n",
       "    </tr>\n",
       "    <tr>\n",
       "      <th>5</th>\n",
       "      <td>0</td>\n",
       "      <td>2008-11-26 01:44:45</td>\n",
       "      <td>2009-01-05 00:00:00</td>\n",
       "      <td>NaN</td>\n",
       "      <td>4</td>\n",
       "      <td>1</td>\n",
       "      <td>&lt;p&gt;&lt;/p&gt;</td>\n",
       "      <td>6073</td>\n",
       "      <td>NaN</td>\n",
       "      <td>[]</td>\n",
       "      <td>...</td>\n",
       "      <td>NaN</td>\n",
       "      <td>1933</td>\n",
       "      <td>en</td>\n",
       "      <td>Attribution-NonCommercial-ShareAlike 3.0 Inter...</td>\n",
       "      <td>1151</td>\n",
       "      <td>NaN</td>\n",
       "      <td>6</td>\n",
       "      <td>NaN</td>\n",
       "      <td>[]</td>\n",
       "      <td>This World</td>\n",
       "    </tr>\n",
       "    <tr>\n",
       "      <th>10</th>\n",
       "      <td>0</td>\n",
       "      <td>2008-11-26 01:45:08</td>\n",
       "      <td>2008-02-06 00:00:00</td>\n",
       "      <td>NaN</td>\n",
       "      <td>4</td>\n",
       "      <td>6</td>\n",
       "      <td>NaN</td>\n",
       "      <td>47632</td>\n",
       "      <td>NaN</td>\n",
       "      <td>[]</td>\n",
       "      <td>...</td>\n",
       "      <td>NaN</td>\n",
       "      <td>54881</td>\n",
       "      <td>en</td>\n",
       "      <td>Attribution-NonCommercial-NoDerivatives (aka M...</td>\n",
       "      <td>50135</td>\n",
       "      <td>NaN</td>\n",
       "      <td>1</td>\n",
       "      <td>NaN</td>\n",
       "      <td>[]</td>\n",
       "      <td>Freeway</td>\n",
       "    </tr>\n",
       "    <tr>\n",
       "      <th>20</th>\n",
       "      <td>0</td>\n",
       "      <td>2008-11-26 01:45:05</td>\n",
       "      <td>2009-01-06 00:00:00</td>\n",
       "      <td>NaN</td>\n",
       "      <td>2</td>\n",
       "      <td>4</td>\n",
       "      <td>&lt;p&gt; \"spiritual songs\" from Nicky Cook&lt;/p&gt;</td>\n",
       "      <td>2710</td>\n",
       "      <td>NaN</td>\n",
       "      <td>[]</td>\n",
       "      <td>...</td>\n",
       "      <td>NaN</td>\n",
       "      <td>978</td>\n",
       "      <td>en</td>\n",
       "      <td>Attribution-NonCommercial-NoDerivatives (aka M...</td>\n",
       "      <td>361</td>\n",
       "      <td>NaN</td>\n",
       "      <td>3</td>\n",
       "      <td>NaN</td>\n",
       "      <td>[]</td>\n",
       "      <td>Spiritual Level</td>\n",
       "    </tr>\n",
       "    <tr>\n",
       "      <th>26</th>\n",
       "      <td>0</td>\n",
       "      <td>2008-11-26 01:45:05</td>\n",
       "      <td>2009-01-06 00:00:00</td>\n",
       "      <td>NaN</td>\n",
       "      <td>2</td>\n",
       "      <td>4</td>\n",
       "      <td>&lt;p&gt; \"spiritual songs\" from Nicky Cook&lt;/p&gt;</td>\n",
       "      <td>2710</td>\n",
       "      <td>NaN</td>\n",
       "      <td>[]</td>\n",
       "      <td>...</td>\n",
       "      <td>NaN</td>\n",
       "      <td>1060</td>\n",
       "      <td>en</td>\n",
       "      <td>Attribution-NonCommercial-NoDerivatives (aka M...</td>\n",
       "      <td>193</td>\n",
       "      <td>NaN</td>\n",
       "      <td>4</td>\n",
       "      <td>NaN</td>\n",
       "      <td>[]</td>\n",
       "      <td>Where is your Love?</td>\n",
       "    </tr>\n",
       "    <tr>\n",
       "      <th>30</th>\n",
       "      <td>0</td>\n",
       "      <td>2008-11-26 01:45:05</td>\n",
       "      <td>2009-01-06 00:00:00</td>\n",
       "      <td>NaN</td>\n",
       "      <td>2</td>\n",
       "      <td>4</td>\n",
       "      <td>&lt;p&gt; \"spiritual songs\" from Nicky Cook&lt;/p&gt;</td>\n",
       "      <td>2710</td>\n",
       "      <td>NaN</td>\n",
       "      <td>[]</td>\n",
       "      <td>...</td>\n",
       "      <td>NaN</td>\n",
       "      <td>718</td>\n",
       "      <td>en</td>\n",
       "      <td>Attribution-NonCommercial-NoDerivatives (aka M...</td>\n",
       "      <td>612</td>\n",
       "      <td>NaN</td>\n",
       "      <td>5</td>\n",
       "      <td>NaN</td>\n",
       "      <td>[]</td>\n",
       "      <td>Too Happy</td>\n",
       "    </tr>\n",
       "    <tr>\n",
       "      <th>46</th>\n",
       "      <td>0</td>\n",
       "      <td>2008-11-26 01:45:05</td>\n",
       "      <td>2009-01-06 00:00:00</td>\n",
       "      <td>NaN</td>\n",
       "      <td>2</td>\n",
       "      <td>4</td>\n",
       "      <td>&lt;p&gt; \"spiritual songs\" from Nicky Cook&lt;/p&gt;</td>\n",
       "      <td>2710</td>\n",
       "      <td>NaN</td>\n",
       "      <td>[]</td>\n",
       "      <td>...</td>\n",
       "      <td>NaN</td>\n",
       "      <td>252</td>\n",
       "      <td>en</td>\n",
       "      <td>Attribution-NonCommercial-NoDerivatives (aka M...</td>\n",
       "      <td>171</td>\n",
       "      <td>NaN</td>\n",
       "      <td>8</td>\n",
       "      <td>NaN</td>\n",
       "      <td>[]</td>\n",
       "      <td>Yosemite</td>\n",
       "    </tr>\n",
       "    <tr>\n",
       "      <th>48</th>\n",
       "      <td>0</td>\n",
       "      <td>2008-11-26 01:45:05</td>\n",
       "      <td>2009-01-06 00:00:00</td>\n",
       "      <td>NaN</td>\n",
       "      <td>2</td>\n",
       "      <td>4</td>\n",
       "      <td>&lt;p&gt; \"spiritual songs\" from Nicky Cook&lt;/p&gt;</td>\n",
       "      <td>2710</td>\n",
       "      <td>NaN</td>\n",
       "      <td>[]</td>\n",
       "      <td>...</td>\n",
       "      <td>NaN</td>\n",
       "      <td>247</td>\n",
       "      <td>en</td>\n",
       "      <td>Attribution-NonCommercial-NoDerivatives (aka M...</td>\n",
       "      <td>173</td>\n",
       "      <td>NaN</td>\n",
       "      <td>9</td>\n",
       "      <td>NaN</td>\n",
       "      <td>[]</td>\n",
       "      <td>Light of Light</td>\n",
       "    </tr>\n",
       "    <tr>\n",
       "      <th>134</th>\n",
       "      <td>0</td>\n",
       "      <td>2008-11-26 01:44:45</td>\n",
       "      <td>2009-01-05 00:00:00</td>\n",
       "      <td>NaN</td>\n",
       "      <td>4</td>\n",
       "      <td>1</td>\n",
       "      <td>&lt;p&gt;&lt;/p&gt;</td>\n",
       "      <td>6073</td>\n",
       "      <td>NaN</td>\n",
       "      <td>[]</td>\n",
       "      <td>...</td>\n",
       "      <td>NaN</td>\n",
       "      <td>1126</td>\n",
       "      <td>en</td>\n",
       "      <td>Attribution-NonCommercial-ShareAlike 3.0 Inter...</td>\n",
       "      <td>943</td>\n",
       "      <td>NaN</td>\n",
       "      <td>5</td>\n",
       "      <td>NaN</td>\n",
       "      <td>[]</td>\n",
       "      <td>Street Music</td>\n",
       "    </tr>\n",
       "  </tbody>\n",
       "</table>\n",
       "<p>10 rows × 52 columns</p>\n",
       "</div>"
      ],
      "text/plain": [
       "            album                                                     \\\n",
       "         comments         date_created        date_released engineer   \n",
       "track_id                                                               \n",
       "2               0  2008-11-26 01:44:45  2009-01-05 00:00:00      NaN   \n",
       "3               0  2008-11-26 01:44:45  2009-01-05 00:00:00      NaN   \n",
       "5               0  2008-11-26 01:44:45  2009-01-05 00:00:00      NaN   \n",
       "10              0  2008-11-26 01:45:08  2008-02-06 00:00:00      NaN   \n",
       "20              0  2008-11-26 01:45:05  2009-01-06 00:00:00      NaN   \n",
       "26              0  2008-11-26 01:45:05  2009-01-06 00:00:00      NaN   \n",
       "30              0  2008-11-26 01:45:05  2009-01-06 00:00:00      NaN   \n",
       "46              0  2008-11-26 01:45:05  2009-01-06 00:00:00      NaN   \n",
       "48              0  2008-11-26 01:45:05  2009-01-06 00:00:00      NaN   \n",
       "134             0  2008-11-26 01:44:45  2009-01-05 00:00:00      NaN   \n",
       "\n",
       "                                                                          \\\n",
       "         favorites id                                information listens   \n",
       "track_id                                                                   \n",
       "2                4  1                                    <p></p>    6073   \n",
       "3                4  1                                    <p></p>    6073   \n",
       "5                4  1                                    <p></p>    6073   \n",
       "10               4  6                                        NaN   47632   \n",
       "20               2  4  <p> \"spiritual songs\" from Nicky Cook</p>    2710   \n",
       "26               2  4  <p> \"spiritual songs\" from Nicky Cook</p>    2710   \n",
       "30               2  4  <p> \"spiritual songs\" from Nicky Cook</p>    2710   \n",
       "46               2  4  <p> \"spiritual songs\" from Nicky Cook</p>    2710   \n",
       "48               2  4  <p> \"spiritual songs\" from Nicky Cook</p>    2710   \n",
       "134              4  1                                    <p></p>    6073   \n",
       "\n",
       "                        ...       track                         \\\n",
       "         producer tags  ... information interest language_code   \n",
       "track_id                ...                                      \n",
       "2             NaN   []  ...         NaN     4656            en   \n",
       "3             NaN   []  ...         NaN     1470            en   \n",
       "5             NaN   []  ...         NaN     1933            en   \n",
       "10            NaN   []  ...         NaN    54881            en   \n",
       "20            NaN   []  ...         NaN      978            en   \n",
       "26            NaN   []  ...         NaN     1060            en   \n",
       "30            NaN   []  ...         NaN      718            en   \n",
       "46            NaN   []  ...         NaN      252            en   \n",
       "48            NaN   []  ...         NaN      247            en   \n",
       "134           NaN   []  ...         NaN     1126            en   \n",
       "\n",
       "                                                                              \\\n",
       "                                                    license listens lyricist   \n",
       "track_id                                                                       \n",
       "2         Attribution-NonCommercial-ShareAlike 3.0 Inter...    1293      NaN   \n",
       "3         Attribution-NonCommercial-ShareAlike 3.0 Inter...     514      NaN   \n",
       "5         Attribution-NonCommercial-ShareAlike 3.0 Inter...    1151      NaN   \n",
       "10        Attribution-NonCommercial-NoDerivatives (aka M...   50135      NaN   \n",
       "20        Attribution-NonCommercial-NoDerivatives (aka M...     361      NaN   \n",
       "26        Attribution-NonCommercial-NoDerivatives (aka M...     193      NaN   \n",
       "30        Attribution-NonCommercial-NoDerivatives (aka M...     612      NaN   \n",
       "46        Attribution-NonCommercial-NoDerivatives (aka M...     171      NaN   \n",
       "48        Attribution-NonCommercial-NoDerivatives (aka M...     173      NaN   \n",
       "134       Attribution-NonCommercial-ShareAlike 3.0 Inter...     943      NaN   \n",
       "\n",
       "                                                     \n",
       "         number publisher tags                title  \n",
       "track_id                                             \n",
       "2             3       NaN   []                 Food  \n",
       "3             4       NaN   []         Electric Ave  \n",
       "5             6       NaN   []           This World  \n",
       "10            1       NaN   []              Freeway  \n",
       "20            3       NaN   []      Spiritual Level  \n",
       "26            4       NaN   []  Where is your Love?  \n",
       "30            5       NaN   []            Too Happy  \n",
       "46            8       NaN   []             Yosemite  \n",
       "48            9       NaN   []       Light of Light  \n",
       "134           5       NaN   []         Street Music  \n",
       "\n",
       "[10 rows x 52 columns]"
      ]
     },
     "execution_count": 8,
     "metadata": {},
     "output_type": "execute_result"
    }
   ],
   "source": [
    "# df = pd.read_csv(\"../fma-metadata/tracks_small.csv\", index_col=0, header=[0,1])\n",
    "df = pd.read_csv(\"../fma-metadata/tracks.csv\", index_col=0, header=[0,1])\n",
    "\n",
    "df = df.head(10)\n",
    "df"
   ]
  },
  {
   "cell_type": "markdown",
   "metadata": {},
   "source": [
    "# Redis Connection"
   ]
  },
  {
   "cell_type": "code",
   "execution_count": 3,
   "metadata": {},
   "outputs": [],
   "source": [
    "redis_conn = Redis(host=os.environ.get('REDIS_ADDRESS', 'localhost'), port=6379, password=os.environ.get('REDIS_PASSWORD', None))"
   ]
  },
  {
   "cell_type": "markdown",
   "metadata": {},
   "source": [
    "# Redis Database Definition"
   ]
  },
  {
   "cell_type": "markdown",
   "metadata": {},
   "source": [
    "### Definition of Fields"
   ]
  },
  {
   "cell_type": "code",
   "execution_count": 37,
   "metadata": {},
   "outputs": [],
   "source": [
    "index_name = \"audiosimilarityv2\"\n",
    "distance_metric:str=\"COSINE\"\n",
    "DIM = 100\n",
    "\n",
    "track_title = TextField(name=\"track_title\")\n",
    "album_title = TextField(name=\"album_title\")\n",
    "artist_name = TextField(name=\"artist_name\")\n",
    "track_publisher = TextField(name=\"track_publisher\")\n",
    "\n",
    "album_tracks = NumericField(name=\"album_tracks\")\n",
    "bit_rate = NumericField(name=\"bit_rate\")\n",
    "duration = NumericField(name=\"duration\")\n",
    "genre_top = TextField(name=\"genre_top\")\n",
    "\n",
    "language_code = TextField(name=\"language_code\")\n",
    "album_date_released = TextField(name=\"album_date_released\")\n",
    "feature_vector_text = TextField(name=\"feature_vector_text\")\n",
    "\n",
    "feature_vector = VectorField(\"feature_vector\",\n",
    "            \"HNSW\", {\n",
    "                \"TYPE\": \"FLOAT32\",\n",
    "                \"DIM\": DIM,\n",
    "                \"DISTANCE_METRIC\": distance_metric,\n",
    "                \"INITIAL_CAP\": 10000,\n",
    "            })"
   ]
  },
  {
   "cell_type": "markdown",
   "metadata": {},
   "source": [
    "### Create index"
   ]
  },
  {
   "cell_type": "code",
   "execution_count": 38,
   "metadata": {},
   "outputs": [
    {
     "data": {
      "text/plain": [
       "b'OK'"
      ]
     },
     "execution_count": 38,
     "metadata": {},
     "output_type": "execute_result"
    }
   ],
   "source": [
    "redis_conn.ft(index_name).create_index(\n",
    "    fields = [track_title, album_title, artist_name, track_publisher, album_tracks, bit_rate, duration, genre_top, language_code, album_date_released, feature_vector_text, feature_vector],\n",
    "    definition = IndexDefinition(prefix=[index_name], index_type=IndexType.HASH)\n",
    ")"
   ]
  },
  {
   "cell_type": "code",
   "execution_count": 39,
   "metadata": {},
   "outputs": [],
   "source": [
    "random_vector = np.random.rand(DIM)\n",
    "random_vector.astype(dtype=np.float32)\n",
    "\n",
    "import json\n",
    "\n",
    "test_str = json.dumps(list(random_vector))"
   ]
  },
  {
   "cell_type": "markdown",
   "metadata": {},
   "source": [
    "# Populate Database"
   ]
  },
  {
   "cell_type": "code",
   "execution_count": 41,
   "metadata": {},
   "outputs": [
    {
     "name": "stderr",
     "output_type": "stream",
     "text": [
      "10it [00:00, 233.97it/s]\n"
     ]
    }
   ],
   "source": [
    "for track_id, row in tqdm(df.iloc[:,:].iterrows()):\n",
    "\n",
    "    row = row.replace({pd.NaT: \"null\"})\n",
    "    \n",
    "    random_vector = np.random.rand(DIM).astype(dtype=np.float32).tobytes()\n",
    "    random_vector = np.random.rand(DIM)\n",
    "    random_vector.astype(dtype=np.float32)\n",
    "    test_str = json.dumps(list(random_vector))\n",
    "    \n",
    "\n",
    "    redis_conn.hset(\n",
    "        f\"{index_name}:{track_id}\",\n",
    "        mapping={\n",
    "            \"track_title\": row[\"track\", \"title\"],\n",
    "            \"album_title\": row[\"album\", \"title\"],\n",
    "            \"artist_name\": row[\"artist\", \"name\"],\n",
    "            \"track_publisher\": row[\"track\", \"publisher\"],\n",
    "            \"album_tracks\":  row[\"album\", \"tracks\"],\n",
    "            \"bit_rate\": row[\"track\", \"bit_rate\"],\n",
    "            \"duration\": row[\"track\", \"duration\"],\n",
    "            \"genre_top\": row[\"track\", \"genre_top\"],\n",
    "            \"language_code\": row[\"track\", \"language_code\"],\n",
    "            \"album_date_released\": row[\"album\", \"date_released\"],\n",
    "            \"feature_vector_text\": test_str,\n",
    "            \"feature_vector\": random_vector.astype(dtype=np.float32).tobytes()\n",
    "        }\n",
    "    )"
   ]
  },
  {
   "cell_type": "markdown",
   "metadata": {},
   "source": [
    "# Test Query"
   ]
  },
  {
   "cell_type": "code",
   "execution_count": 52,
   "metadata": {},
   "outputs": [
    {
     "data": {
      "text/plain": [
       "{b'feature_vector_text': b'[0.5768994975483053, 0.499887054418759, 0.34117725684216627, 0.1284318612579738, 0.47140404420324544, 0.2643568226944891, 0.18187905653417968, 0.2364914411171214, 0.4533100693078047, 0.5298069719964643, 0.8344059153135176, 0.9125326115999195, 0.20855144766115774, 0.2433748646466941, 0.9292930903454681, 0.2719190391056211, 0.9483168187220316, 0.8451843023644683, 0.12044669957649579, 0.23993147641778556, 0.970157177848113, 0.6905532140820911, 0.013467213844582937, 0.4951587367903001, 0.6694830821176782, 0.1125631218434332, 0.4344613262242938, 0.26121732840183565, 0.9745950962661815, 0.7165156270940535, 0.39467619316730673, 0.13180765996704036, 0.5791365577401926, 0.8233399379487828, 0.3071288103358596, 0.38064611315579955, 0.27472045276671186, 0.6806422756235433, 0.5761520676660212, 0.7358260896926306, 0.01529724452793979, 0.3851722331208519, 0.16506981865920534, 0.993855056054978, 0.7786405522846099, 0.05602190951862507, 0.6093590819278644, 0.47266766185776943, 0.5243206852606367, 0.16943480044073633, 0.2466779757961015, 0.15125009468133255, 0.31973898545803536, 0.5657509177490587, 0.14870819685135084, 0.9449522241886702, 0.15752658263870412, 0.6491466032137125, 0.5818807798708246, 0.45351194252627347, 0.5428826851571792, 0.7943766607358679, 0.7897504902271929, 0.9517132881909519, 0.5969576818683135, 0.3667362069747201, 0.3927072972957818, 0.6716651732441191, 0.5404399407363243, 0.1899145998619408, 0.47997298977274605, 0.5259934780925866, 0.9725123130534366, 0.06261445642081642, 0.7741909855899471, 0.08946646414295323, 0.6546956965074912, 0.9688354060658946, 0.3169563541873862, 0.6040227086521549, 0.031877680345921866, 0.26635346693488215, 0.9290771587479342, 0.9201133565258977, 0.7071541043049943, 0.688042945820688, 0.10165689487421614, 0.7487612705740598, 0.3992501017261214, 0.8989096014072872, 0.08564337485414275, 0.24567662705927018, 0.09338965220147555, 0.9149934675872007, 0.7934149335769098, 0.6410691844198088, 0.4665371076279675, 0.39425998466429024, 0.01781013849483104, 0.8494390837165099]',\n",
       " b'track_publisher': b'null',\n",
       " b'album_date_released': b'2009-01-05 00:00:00',\n",
       " b'album_title': b'AWOL - A Way Of Life',\n",
       " b'track_title': b'Food',\n",
       " b'feature_vector': b\"\\xaf\\xaf\\x13?2\\xf1\\xff>\\xc9\\xae\\xae>\\xa4\\x83\\x03>\\xdf[\\xf1>\\xc7Y\\x87>\\x81>:>\\xd0*r>B\\x18\\xe8>n\\xa1\\x07?\\xa0\\x9bU?\\xbd\\x9bi?\\x83\\x8eU>C7y>'\\xe6m?\\xf98\\x8b>\\xe4\\xc4r?\\x00^X?\\xc2\\xac\\xf6=\\x99\\xb0u>9\\\\x?\\x18\\xc80?\\x97\\xa5\\\\<r\\x85\\xfd>>c+?~\\x87\\xe6=\\xb7q\\xde>G\\xbe\\x85>\\x10\\x7fy?\\x91m7?\\xff\\x12\\xca>\\x96\\xf8\\x06>KB\\x14?h\\xc6R?\\xfd?\\x9d>\\x0c\\xe4\\xc2>)\\xa8\\x8c>\\x92>.?\\xb4~\\x13?\\x19_<?K\\xa1z<L5\\xc5>\\x10\\x08)>Im~?\\xfdTG?;we=\\xf5\\xfe\\x1b?\\x7f\\x01\\xf2>\\xe19\\x06?Q\\x80->'\\x99|>N\\xe1\\x1a>\\xd4\\xb4\\xa3>\\r\\xd5\\x10?\\xf6F\\x18>d\\xe8q?\\xa6N!>y.&?$\\xf6\\x14?\\xb82\\xe8>\\\\\\xfa\\n?E\\\\K?\\x17-J?{\\xa3s?8\\xd2\\x18?\\xd9\\xc4\\xbb>\\xee\\x10\\xc9>@\\xf2+?FZ\\n?\\xf9xB>\\x05\\xbf\\xf5>\\x82\\xa7\\x06?\\x91\\xf6x?\\x02<\\x80=a1F?2:\\xb7=#\\x9a'?\\x99\\x05x?\\x1aH\\xa2>;\\xa1\\x1a?,\\x92\\x02={_\\x88>\\x00\\xd8m?\\x8d\\x8ck?\\r\\x085?\\x95#0?}1\\xd0=\\xd2\\xae??\\x82j\\xcc>\\xf1\\x1ef?\\xcbe\\xaf=\\xa7\\x92{>\\x13C\\xbf=\\x03=j?>\\x1dK?\\x1c\\x1d$?\\xf4\\xdd\\xee>r\\xdc\\xc9>\\x91\\xe6\\x91<\\xd7tY?\",\n",
       " b'language_code': b'en',\n",
       " b'genre_top': b'Hip-Hop',\n",
       " b'album_tracks': b'7',\n",
       " b'bit_rate': b'256000',\n",
       " b'duration': b'168',\n",
       " b'artist_name': b'AWOL'}"
      ]
     },
     "execution_count": 52,
     "metadata": {},
     "output_type": "execute_result"
    }
   ],
   "source": [
    "# redis_conn.keys()\n",
    "redis_conn.hgetall(\"audiosimilarityv2:2\")"
   ]
  },
  {
   "cell_type": "code",
   "execution_count": 55,
   "metadata": {},
   "outputs": [],
   "source": [
    "def base_query(number_of_results=20):\n",
    "    base_query = f'*'\n",
    "    query = Query(base_query)\\\n",
    "        .paging(0, number_of_results)\\\n",
    "        .dialect(2)\n",
    "    \n",
    "    results = redis_conn.ft(index_name).search(query)\n",
    "\n",
    "    if results.docs:\n",
    "        return pd.DataFrame(list(map(lambda x: {'id': x.id, 'track' : x.track_title, 'album': x.album_title, 'artist': x.artist_name, \"feature_vector_text\": x.feature_vector_text}, results.docs))).sort_values(by='id')\n",
    "        # return results.docs\n",
    "    else:\n",
    "        return pd.DataFrame()"
   ]
  },
  {
   "cell_type": "code",
   "execution_count": 60,
   "metadata": {},
   "outputs": [
    {
     "data": {
      "text/plain": [
       "'[0.5768994975483053, 0.499887054418759, 0.34117725684216627, 0.1284318612579738, 0.47140404420324544, 0.2643568226944891, 0.18187905653417968, 0.2364914411171214, 0.4533100693078047, 0.5298069719964643, 0.8344059153135176, 0.9125326115999195, 0.20855144766115774, 0.2433748646466941, 0.9292930903454681, 0.2719190391056211, 0.9483168187220316, 0.8451843023644683, 0.12044669957649579, 0.23993147641778556, 0.970157177848113, 0.6905532140820911, 0.013467213844582937, 0.4951587367903001, 0.6694830821176782, 0.1125631218434332, 0.4344613262242938, 0.26121732840183565, 0.9745950962661815, 0.7165156270940535, 0.39467619316730673, 0.13180765996704036, 0.5791365577401926, 0.8233399379487828, 0.3071288103358596, 0.38064611315579955, 0.27472045276671186, 0.6806422756235433, 0.5761520676660212, 0.7358260896926306, 0.01529724452793979, 0.3851722331208519, 0.16506981865920534, 0.993855056054978, 0.7786405522846099, 0.05602190951862507, 0.6093590819278644, 0.47266766185776943, 0.5243206852606367, 0.16943480044073633, 0.2466779757961015, 0.15125009468133255, 0.31973898545803536, 0.5657509177490587, 0.14870819685135084, 0.9449522241886702, 0.15752658263870412, 0.6491466032137125, 0.5818807798708246, 0.45351194252627347, 0.5428826851571792, 0.7943766607358679, 0.7897504902271929, 0.9517132881909519, 0.5969576818683135, 0.3667362069747201, 0.3927072972957818, 0.6716651732441191, 0.5404399407363243, 0.1899145998619408, 0.47997298977274605, 0.5259934780925866, 0.9725123130534366, 0.06261445642081642, 0.7741909855899471, 0.08946646414295323, 0.6546956965074912, 0.9688354060658946, 0.3169563541873862, 0.6040227086521549, 0.031877680345921866, 0.26635346693488215, 0.9290771587479342, 0.9201133565258977, 0.7071541043049943, 0.688042945820688, 0.10165689487421614, 0.7487612705740598, 0.3992501017261214, 0.8989096014072872, 0.08564337485414275, 0.24567662705927018, 0.09338965220147555, 0.9149934675872007, 0.7934149335769098, 0.6410691844198088, 0.4665371076279675, 0.39425998466429024, 0.01781013849483104, 0.8494390837165099]'"
      ]
     },
     "execution_count": 60,
     "metadata": {},
     "output_type": "execute_result"
    }
   ],
   "source": [
    "base_query(5)[\"feature_vector_text\"][0]"
   ]
  },
  {
   "cell_type": "code",
   "execution_count": 62,
   "metadata": {},
   "outputs": [
    {
     "name": "stdout",
     "output_type": "stream",
     "text": [
      "<class 'list'>\n",
      "[0.5768994975483053, 0.499887054418759, 0.34117725684216627, 0.1284318612579738, 0.47140404420324544, 0.2643568226944891, 0.18187905653417968, 0.2364914411171214, 0.4533100693078047, 0.5298069719964643, 0.8344059153135176, 0.9125326115999195, 0.20855144766115774, 0.2433748646466941, 0.9292930903454681, 0.2719190391056211, 0.9483168187220316, 0.8451843023644683, 0.12044669957649579, 0.23993147641778556, 0.970157177848113, 0.6905532140820911, 0.013467213844582937, 0.4951587367903001, 0.6694830821176782, 0.1125631218434332, 0.4344613262242938, 0.26121732840183565, 0.9745950962661815, 0.7165156270940535, 0.39467619316730673, 0.13180765996704036, 0.5791365577401926, 0.8233399379487828, 0.3071288103358596, 0.38064611315579955, 0.27472045276671186, 0.6806422756235433, 0.5761520676660212, 0.7358260896926306, 0.01529724452793979, 0.3851722331208519, 0.16506981865920534, 0.993855056054978, 0.7786405522846099, 0.05602190951862507, 0.6093590819278644, 0.47266766185776943, 0.5243206852606367, 0.16943480044073633, 0.2466779757961015, 0.15125009468133255, 0.31973898545803536, 0.5657509177490587, 0.14870819685135084, 0.9449522241886702, 0.15752658263870412, 0.6491466032137125, 0.5818807798708246, 0.45351194252627347, 0.5428826851571792, 0.7943766607358679, 0.7897504902271929, 0.9517132881909519, 0.5969576818683135, 0.3667362069747201, 0.3927072972957818, 0.6716651732441191, 0.5404399407363243, 0.1899145998619408, 0.47997298977274605, 0.5259934780925866, 0.9725123130534366, 0.06261445642081642, 0.7741909855899471, 0.08946646414295323, 0.6546956965074912, 0.9688354060658946, 0.3169563541873862, 0.6040227086521549, 0.031877680345921866, 0.26635346693488215, 0.9290771587479342, 0.9201133565258977, 0.7071541043049943, 0.688042945820688, 0.10165689487421614, 0.7487612705740598, 0.3992501017261214, 0.8989096014072872, 0.08564337485414275, 0.24567662705927018, 0.09338965220147555, 0.9149934675872007, 0.7934149335769098, 0.6410691844198088, 0.4665371076279675, 0.39425998466429024, 0.01781013849483104, 0.8494390837165099]\n"
     ]
    }
   ],
   "source": [
    "features = json.loads(base_query(5)[\"feature_vector_text\"][0])\n",
    "print(type(features))\n",
    "print(features)"
   ]
  },
  {
   "cell_type": "code",
   "execution_count": 45,
   "metadata": {},
   "outputs": [],
   "source": [
    "def vector_similarity(np_vector: np.array, return_fields: list=[], search_type: str=\"KNN\", number_of_results: int=10, vector_field_name: str=\"feature_vector\"):\n",
    "    base_query = f'* =>[ {search_type} {number_of_results} @{vector_field_name} $vec_param AS vector_score]'\n",
    "\n",
    "    query = Query(base_query)\\\n",
    "        .sort_by(\"vector_score\", asc=False)\\\n",
    "        .dialect(2)\n",
    "\n",
    "    params_dict = {\"vec_param\": np_vector.astype(dtype=np.float32).tobytes()}\n",
    "\n",
    "    results = redis_conn.ft(index_name).search(query, params_dict)\n",
    "    \n",
    "    # return pd.DataFrame(list(map(lambda x: {'id' : x.id, 'track_title': x.album_title, 'vector_score': x.vector_score}, results.docs)))\n",
    "    # return pd.DataFrame(list(map(lambda x: x.__dict__, results.docs)))\n",
    "    return results.docs"
   ]
  },
  {
   "cell_type": "code",
   "execution_count": 46,
   "metadata": {},
   "outputs": [
    {
     "data": {
      "text/plain": [
       "[Document {'id': 'audiosimilarityv2:26', 'payload': None, 'vector_score': '0.312813401222', 'feature_vector_text': '[0.3513382296275811, 0.5289473199054504, 0.9291444784865808, 0.41570477363217706, 0.02944758139747994, 0.9023698198926223, 0.07967038414586403, 0.025869847801512802, 0.986304112135726, 0.1529961846582919, 0.0808310549811746, 0.8291525647791447, 0.3426400908295608, 0.7994623711600878, 0.6970434413788307, 0.42504917370761064, 0.46778514963826423, 0.08878900009824642, 0.6122569367645093, 0.13970253560603274, 0.0288985184517474, 0.5266501090908671, 0.5060405910047818, 0.6798985484257973, 0.8813188680325288, 0.17605514312604953, 0.8422485925715145, 0.6913059431208656, 0.5987920205216115, 0.8323137967254458, 0.585935333995726, 0.9873550628239496, 0.9470582697990902, 0.19904962372187784, 0.8032837781796124, 0.6351396351517911, 0.7862869449931191, 0.3251791111295732, 0.024105913412282076, 0.9185862817904883, 0.21777647624184104, 0.6836940593028678, 0.49342754835253666, 0.38692785475317026, 0.8653312414119007, 0.7382264657595728, 0.32038626034007545, 0.4484449299311828, 0.8666101811167172, 0.8219357186841537, 0.1491144790106934, 0.300762360055408, 0.5904362831620639, 0.3382615753033841, 0.8639158511062724, 0.7062239744941174, 0.41957506174445014, 0.45097374605900176, 0.37956449437295536, 0.31539736769185234, 0.03065033902082892, 0.08566461819377769, 0.27280340712132767, 0.8596172128678334, 0.6132907003678746, 0.3244930441803755, 0.45695265488071946, 0.7589556783554812, 0.9748217696644257, 0.8573134093904866, 0.6536591141807797, 0.9612462404024971, 0.27251950005036174, 0.609312847395741, 0.2007837158531136, 0.3481411484553498, 0.6232891465096947, 0.080372770225277, 0.4445924350519226, 0.682868765161463, 0.7675635113764002, 0.9986735092676662, 0.9015034198043014, 0.35621750889590664, 0.46970257115183933, 0.36531702678444244, 0.4334926468338438, 0.4108587701185552, 0.4756145521288402, 0.34147696793285476, 0.5746091508164142, 0.45790336338274096, 0.9487631297928415, 0.556218378541664, 0.21206381324329326, 0.7421421545562336, 0.5906167541910303, 0.18233056302889283, 0.6419111731752952, 0.30011245394091135]', 'track_publisher': 'null', 'album_tracks': '13', 'bit_rate': '256000', 'feature_vector': '>\\x17i\\x07?jm?B>\\x0e<<\\x01g?:*=\\x01<m~|?\\x08\\x1c>=XCT?n>L?pq2?\\x0c>>\\x02\\u05f5=\\u07fc\\x1c?.\\x0e\\x0f><\\x06?\\x01?\\r.?\\x1da?G4>W?m0?oJ\\x19?\\x12U?\\x15?M|?irr?K>\\x01M?\"?\\x1aJI?}>y<x(k?\\x00_>\\x06/?>h\\x1b>Y]?i<?\\t>>*]?ajR?w\\x18>>&\\x17?0>)]?\\x184?>\\x08>GV>{>k\\x16<p=㬋>\\x0f\\\\?\\x00\\x1d?#>>JB?y?x[?4V\\'?<\\x14v?>\\x1b??M>?>\\x1f?{=>}.?\\x0b\\x7fD?\\x11\\x7f?f?$b>|>\\n>>\\x15\\\\>>\\x12֮>\\x19\\x13?Or>$r?Td\\x0e?B\\'Y>\\x07=?2\\x17?ݴ:>JT$?W>', 'language_code': 'en', 'artist_name': 'Nicky Cook', 'album_date_released': '2009-01-06 00:00:00', 'album_title': 'Niris', 'track_title': 'Where is your Love?', 'duration': '181', 'genre_top': 'null'},\n",
       " Document {'id': 'audiosimilarityv2:5', 'payload': None, 'vector_score': '0.300131917', 'feature_vector_text': '[0.8067886377705336, 0.14237058294750848, 0.1374819547467121, 0.5355482564696283, 0.08202251368156432, 0.9636084518152453, 0.5179471030949564, 0.9776799285594606, 0.006048259219572416, 0.56306062350642, 0.40653676932284455, 0.05313468800974397, 0.7860234528799857, 0.2899207476415544, 0.9993267773222965, 0.892165485596577, 0.5448865681454805, 0.03871540648265137, 0.19466848759132171, 0.9801482953188584, 0.3687380256763725, 0.7239034214055468, 0.8643752796028553, 0.18363397712028984, 0.34583583045581645, 0.6271696346876999, 0.23989996800889668, 0.05699719309489426, 0.41309111947182975, 0.8347645953673422, 0.297776166807725, 0.9382751087831639, 0.8205735134185483, 0.45183868150505446, 0.8561332875914925, 0.9187348866894183, 0.08389911991975463, 0.2097727773772442, 0.9420216213758394, 0.9173001344267142, 0.5552560543683138, 0.4030447809454899, 0.5672790031598134, 0.9204381696010311, 0.44830737799592246, 0.6422203514501056, 0.9962209761020457, 0.24693807150553182, 0.8260165718266211, 0.9679473047720578, 0.18055086804535847, 0.34028479190423433, 0.08717278627326908, 0.9851768282746263, 0.13887024348413401, 0.9625172690846124, 0.6799655266882305, 0.5396834478952353, 0.6634158868472608, 0.747044604433743, 0.49400891949018777, 0.5139907588575284, 0.15529025280709374, 0.2303816419183048, 0.017833759468839916, 0.009225324317351569, 0.04614050849454199, 0.31436083249941804, 0.1110880053733665, 0.1732359830386767, 0.3628378820717296, 0.02385491324739808, 0.6421121503239566, 0.8687334019274355, 0.17040915362592057, 0.4408775574780398, 0.24293040085479745, 0.6175264549795079, 0.7431384665492214, 0.2895816693556196, 0.5101271922079815, 0.44077333126433893, 0.866237058636687, 0.051115930517178665, 0.704387421611133, 0.5777245875958313, 0.19655827062971032, 0.9039878073967604, 0.7913006206788127, 0.6892920177668317, 0.5988481301974573, 0.8330083579179907, 0.6519310223953354, 0.5025921681472163, 0.8692887322892962, 0.25773371308893356, 0.948755641864896, 0.9746527894043306, 0.907626649136969, 0.3014986940397846]', 'track_publisher': 'null', 'album_tracks': '7', 'bit_rate': '256000', 'feature_vector': 'N?\\x11>\\x12\\x0c>\\x19\\t?k=\\x0bv?.\\x04?;Iz?z0;$\\x10?%>£Y=8I?~p>\\x7f?dd?}\\x0b?\\x0c\\x1e=-WG>\\x00z?;˼>Q9?G]?\\n<>e\\x11>0 ?Vu>ui=>\"U?\\x1ev>2p?\\x1b\\x11R?fW>+[?62k?Mӫ=V>T(q?.j?C%\\x0e?[>29\\x11?֡k?>h$?V\\x08\\x7f?U|>uS?ew?T8>9>=4|?\\x004\\x0e>gv?9\\x12.?(\\n?)?Q>??>\\x03?h\\x04\\x1f>*k>\\x1b\\x18<%\\x17<<=>\\x1c=d1>Ź>ak<va$?Pe^?\\x7f.>>x>7\\x16\\x1e?S>>?\\x0cD>\\x02?\\x0b>]?^Q=R4?\\x13?FI>kg?J?qu0?\\x1cN\\x19?\\t@U?&?\\x00?^?>r?\\u0602y?8Zh?\\t^>', 'language_code': 'en', 'artist_name': 'AWOL', 'album_date_released': '2009-01-05 00:00:00', 'album_title': 'AWOL - A Way Of Life', 'track_title': 'This World', 'duration': '206', 'genre_top': 'Hip-Hop'},\n",
       " Document {'id': 'audiosimilarityv2:2', 'payload': None, 'vector_score': '0.291122913361', 'feature_vector_text': '[0.5768994975483053, 0.499887054418759, 0.34117725684216627, 0.1284318612579738, 0.47140404420324544, 0.2643568226944891, 0.18187905653417968, 0.2364914411171214, 0.4533100693078047, 0.5298069719964643, 0.8344059153135176, 0.9125326115999195, 0.20855144766115774, 0.2433748646466941, 0.9292930903454681, 0.2719190391056211, 0.9483168187220316, 0.8451843023644683, 0.12044669957649579, 0.23993147641778556, 0.970157177848113, 0.6905532140820911, 0.013467213844582937, 0.4951587367903001, 0.6694830821176782, 0.1125631218434332, 0.4344613262242938, 0.26121732840183565, 0.9745950962661815, 0.7165156270940535, 0.39467619316730673, 0.13180765996704036, 0.5791365577401926, 0.8233399379487828, 0.3071288103358596, 0.38064611315579955, 0.27472045276671186, 0.6806422756235433, 0.5761520676660212, 0.7358260896926306, 0.01529724452793979, 0.3851722331208519, 0.16506981865920534, 0.993855056054978, 0.7786405522846099, 0.05602190951862507, 0.6093590819278644, 0.47266766185776943, 0.5243206852606367, 0.16943480044073633, 0.2466779757961015, 0.15125009468133255, 0.31973898545803536, 0.5657509177490587, 0.14870819685135084, 0.9449522241886702, 0.15752658263870412, 0.6491466032137125, 0.5818807798708246, 0.45351194252627347, 0.5428826851571792, 0.7943766607358679, 0.7897504902271929, 0.9517132881909519, 0.5969576818683135, 0.3667362069747201, 0.3927072972957818, 0.6716651732441191, 0.5404399407363243, 0.1899145998619408, 0.47997298977274605, 0.5259934780925866, 0.9725123130534366, 0.06261445642081642, 0.7741909855899471, 0.08946646414295323, 0.6546956965074912, 0.9688354060658946, 0.3169563541873862, 0.6040227086521549, 0.031877680345921866, 0.26635346693488215, 0.9290771587479342, 0.9201133565258977, 0.7071541043049943, 0.688042945820688, 0.10165689487421614, 0.7487612705740598, 0.3992501017261214, 0.8989096014072872, 0.08564337485414275, 0.24567662705927018, 0.09338965220147555, 0.9149934675872007, 0.7934149335769098, 0.6410691844198088, 0.4665371076279675, 0.39425998466429024, 0.01781013849483104, 0.8494390837165099]', 'track_publisher': 'null', 'album_tracks': '7', 'bit_rate': '256000', 'feature_vector': \"\\x13?2>ɮ>\\x03>[>Y>>:>*r>B\\x18>n\\x07?U?i?U>C7y>'m?8>r?\\x00^X?¬=u>9\\\\x?\\x180?\\\\<r>>c+?~=q>G>\\x10\\x7fy?m7?\\x12>\\x06>KB\\x14?hR??>\\x0c>)>>.?~\\x13?\\x19_<?Kz<L5>\\x10\\x08)>Im~?TG?;we=\\x1b?\\x7f\\x01>9\\x06?Q->'|>N\\x1a>Դ>\\r\\x10?F\\x18>dq?N!>y.&?$\\x14?2>\\\\\\n?E\\\\K?\\x17-J?{s?8\\x18?Ļ>\\x10>@+?FZ\\n?xB>\\x05>\\x06?x?\\x02<=a1F?2:=#'?\\x05x?\\x1aH>;\\x1a?,\\x02={_>\\x00m?k?\\r\\x085?#0?}1=Ү??j>\\x1ef?e={>\\x13C=\\x03=j?>\\x1dK?\\x1c\\x1d$?>r><tY?\", 'language_code': 'en', 'artist_name': 'AWOL', 'album_date_released': '2009-01-05 00:00:00', 'album_title': 'AWOL - A Way Of Life', 'track_title': 'Food', 'duration': '168', 'genre_top': 'Hip-Hop'},\n",
       " Document {'id': 'audiosimilarityv2:134', 'payload': None, 'vector_score': '0.283237040043', 'feature_vector_text': '[0.4331548018133118, 0.7099514002337027, 0.08243098374089086, 0.9558989391266527, 0.11687817759100783, 0.8959908205827584, 0.43360335638412173, 0.15177958735300723, 0.029852286367096137, 0.5061026489989585, 0.838820977310337, 0.7275031917689532, 0.6592348115050736, 0.7345309784955201, 0.3395829629941254, 0.5999202680837089, 0.9802460064244765, 0.1266375080976624, 0.6606067766273722, 0.19270377080751733, 0.5446747519575242, 0.6531517895424777, 0.4848162279010776, 0.805157962121345, 0.7352227624887653, 0.49493740914128337, 0.033158578781904646, 0.6203943553714375, 0.308666151130913, 0.9018681754410187, 0.2847501953493342, 0.9940921772919884, 0.32486998212984597, 0.7410355255376131, 0.22010932590226595, 0.0032422824751934254, 0.062339310776470036, 0.30442476304185484, 0.5986575761563468, 0.45373675642572164, 0.15629622647628394, 0.6411104898118185, 0.7076137273241669, 0.48997833278863767, 0.6240269919650804, 0.5273874253640751, 0.590875515578233, 0.5701915468124714, 0.7840734104189084, 0.31165521185458755, 0.046210333287465266, 0.8759516463033296, 0.6134616249691892, 0.2962322493100863, 0.019262311838455837, 0.09993663733002212, 0.29650103923114635, 0.965787448067146, 0.9547477607870042, 0.5693243484229833, 0.3741600613407816, 0.06844506910804937, 0.4583022678284212, 0.8479390134577465, 0.13877959243876747, 0.12849160657839254, 0.17582467660941659, 0.8993524391220308, 0.4091946863913245, 0.1304958806217965, 0.5680262268928419, 0.9902623209977494, 0.6081637719565373, 0.8099864013144656, 0.5609427221278374, 0.06499499713464607, 0.14340513085256368, 0.43417139782659897, 0.39082947086481123, 0.8472244515921076, 0.098384069711548, 0.8344421424340284, 0.662368211535324, 0.5720676399499935, 0.14263717829681222, 0.0521574057963583, 0.7623724583554903, 0.6127456859708647, 0.3012881935908488, 0.7812481621136462, 0.01488336132966106, 0.7526417204423034, 0.36559183826743247, 0.816820071220625, 0.9855494838230276, 0.7772634552683879, 0.35799976613161966, 0.1655812748280151, 0.19968447886335872, 0.5696715041588304]', 'track_publisher': 'null', 'album_tracks': '7', 'bit_rate': '256000', 'feature_vector': \"w>`5?Ѩ=˵t?]=_e?B\\x01>\\x1cl\\x1b>Ȍ<\\x01?V?=:?(?9\\n<?ݭ>`\\x19?gz?C\\x01>\\x1d)?#TE>o\\x0b?4'?9>\\x1eN?7<?ph>J\\x07=*\\x1e?}\\t>f?ʑ>|~?\\\\U>=?Wda>y|T;W\\x7f=ݛ>A\\x19?/P>\\x1e\\x0c >\\x1f$?,&5?q><\\x1f?\\x02\\x07?C\\x17?\\x13\\x11?\\tH?F>\\x0cG==^>`?\\x0b\\x1d?>˝<=Η>=w?Yjt?>\\x11?葿>,=>\\x12Y?=\\x1c\\x0e>N\\x03>b\\x0b4>;f?>\\x05>+j\\x11?Ձ}?\\x1b?E[O?\\x0f?\\x19\\x1c=\\x12>K>\\x1a>X?}=\\x00U?)?\\x06s\\x12?{\\x0f\\x12>\\x01U=*C?\\x1c?rB>G?Xs<!@?.>\\x1f\\x1bQ?L|?F?K>#)>\\x17zL>\\x11?\", 'language_code': 'en', 'artist_name': 'AWOL', 'album_date_released': '2009-01-05 00:00:00', 'album_title': 'AWOL - A Way Of Life', 'track_title': 'Street Music', 'duration': '207', 'genre_top': 'Hip-Hop'},\n",
       " Document {'id': 'audiosimilarityv2:48', 'payload': None, 'vector_score': '0.27635383606', 'feature_vector_text': '[0.12219669679564005, 0.7788811347669437, 0.6217312651218484, 0.017148015339997325, 0.2786324215314434, 0.777521909487996, 0.4168267668705039, 0.19752287726861528, 0.6221132413724718, 0.1072757202604081, 0.7129183380677694, 0.6306186950440625, 0.002231102711640176, 0.9918264922222584, 0.4263755895050544, 0.7713437922612122, 0.30608833721455586, 0.5199803664890317, 0.6806528176384529, 0.5427421841545012, 0.04111959418594713, 0.8359165614018397, 0.11169014446400505, 0.2019559043816409, 0.8427035436468372, 0.21989448076419715, 0.32123554057976855, 0.05657799970199795, 0.15952436391998936, 0.4649279394139214, 0.3465108224648654, 0.18898546089765889, 0.8528128042994237, 0.7449803199074788, 0.492774053521969, 0.39110386886481696, 0.056736024943022545, 0.21923030044700087, 0.3446807387034583, 0.8962154173372737, 0.6340770404264988, 0.7336055907646749, 0.9638554689037938, 0.9931026377842694, 0.3064553602806942, 0.707199632570912, 0.7360139471497715, 0.30091050971850486, 0.18734755501533695, 0.5309863121640354, 0.8922131038543287, 0.4551491559615263, 0.25367848599731724, 0.43961501537348946, 0.8902183825652894, 0.5374686933192336, 0.7322000323409438, 0.43229582912326625, 0.6020985038332206, 0.21591513448080268, 0.411325072486203, 0.06846328040202643, 0.1784395164673308, 0.20874404566193083, 0.5626617466550482, 0.32621888580556435, 0.4046014886126167, 0.2581550995273184, 0.618433684143446, 0.46019004756124293, 0.15499236747937084, 0.18943867448211138, 0.9762412628892722, 0.1367532097373887, 0.7100608085061239, 0.6449620816854753, 0.04436217390120489, 0.4598083320053231, 0.3569121569534939, 0.5008615953671555, 0.7670286843726151, 0.6283789246905552, 0.6422769463239744, 0.6388475074004523, 0.8539141023966044, 0.7589840760405141, 0.5824829563322558, 0.41564666142466156, 0.6579918255463385, 0.8593683694728171, 0.6974253754868407, 0.7330316701472976, 0.25066091602530693, 0.8170378252565028, 0.6444513952214993, 0.6934684970246496, 0.25833875948151486, 0.8176087768787776, 0.19544648071098336, 0.1321094912872839]', 'track_publisher': 'null', 'album_tracks': '13', 'bit_rate': '256000', 'feature_vector': 'CB=dG?)\\x1f?y<騎>\\x0bG?Qj>pCJ>B\\x1f?_=с6?:p!?7\\x12;W}?M>vE?>o\\x1d\\x05?C?.?\\'\\n?\\x05m(=U?ͽ=N>kW?\\x05,a>x>Ug=[Z#>\\t\\x0b>i>hA>QZ?\\x08>?L>>>\\tdh=}`>y>`ne?R\"?;?;v?;~?>\\t\\x0b5?ik<?\\x10>\\n?>\\x07?\\x14hd?O\\t>&>8\\x15>Zc?\\t?vq;?U>!#\\x1a?\\x18]>3>z6=ٸ6>\\x00U>\\n\\x10?)\\x06>\\'>,>Q\\x1e?\\x08>R\\x1e>6A>y?\\t\\t\\x0c>5?<\\x1c%?\\x1c5=k>1>w8\\x00?[D?q ?Cl$?#?\\x1dZ?LB?\\x1d\\x15?>\\'r(?[?x2?;?V>d)Q?$?\\'1?D>NQ?\\x1f#H>G\\x07>', 'language_code': 'en', 'artist_name': 'Nicky Cook', 'album_date_released': '2009-01-06 00:00:00', 'album_title': 'Niris', 'track_title': 'Light of Light', 'duration': '205', 'genre_top': 'null'},\n",
       " Document {'id': 'audiosimilarityv2:3', 'payload': None, 'vector_score': '0.270392119884', 'feature_vector_text': '[0.3078015207528354, 0.9288318887480443, 0.22710183104272996, 0.37011100367610317, 0.3071915153797352, 0.01584544483847128, 0.6853824607807333, 0.2135964552396037, 0.19066464952504802, 0.694446229532501, 0.03706018671582745, 0.7139042879096913, 0.7962549259561831, 0.3107102310331832, 0.7755002394680015, 0.6058212822428268, 0.71402003242002, 0.14567756729980896, 0.21100124271797682, 0.6613933068520768, 0.471442909975081, 0.7764528295838509, 0.05666356331366107, 0.9539283555933402, 0.8851774556220884, 0.6064741726047488, 0.48085216628875105, 0.25205033424080403, 0.7675815410930817, 0.07896477421033854, 0.6363744894600168, 0.8305325668303633, 0.30756030403386825, 0.13506510114728443, 0.9700434236911266, 0.308050837300909, 0.22887816179425224, 0.2729528285376164, 0.645780611876933, 0.40937233581697796, 0.5342843402058202, 0.6000295543316582, 0.13900600959421983, 0.02275466858083719, 0.5401377941552896, 0.6631671897717613, 0.3618816720222613, 0.4175321946393834, 0.8652335163548274, 0.015955273950032045, 0.02616321272215738, 0.09109297246496306, 0.14113520135034463, 0.7695511679190975, 0.4106194508093123, 0.7230442787982843, 0.4539346751736305, 0.42825570216978137, 0.026523958340545994, 0.5223579946852395, 0.3997872635265698, 0.13889588454304014, 0.6023015052186081, 0.1669569151705106, 0.8910335158782323, 0.4240976984635654, 0.09813291959936066, 0.6625962160934554, 0.4427843073577902, 0.6151556884313281, 0.7112895879640183, 0.4774023743987329, 0.8248255583363134, 0.47576850050298813, 0.9386181979833078, 0.6788166914209084, 0.8269739294870724, 0.2723061015259779, 0.9952875113052847, 0.2154390482509272, 0.9011168679710508, 0.8834535427042779, 0.9917909494369278, 0.9615182770902723, 0.5253413374332434, 0.991690678422788, 0.07195796805134957, 0.19528410513716143, 0.4763344103640361, 0.41764382835138025, 0.7544145140266018, 0.8507153654943934, 0.6271910869627753, 0.6408454376314778, 0.20872789662084934, 0.6966147133247493, 0.8893300257590018, 0.8119367400823395, 0.004727062096171464, 0.8062183091852552]', 'track_publisher': 'null', 'album_tracks': '7', 'bit_rate': '256000', 'feature_vector': ')>m?bh>1\\x7f>5H>N\\u0381<:u/?\\x07Z>=C>:1?l\\x17=n6?]K?i\\x15>/F?\\x1b\\x17\\x1b?\\x046?,\\x15>\\x10X>\\x12Q)?`>F?\\r\\x18h=4t?b?A\\x1b?A2>\\x0c>9D?I=p\"?ȝT?x>N\\n>Tx?\\u05f8>\\t_j>y>Q%?@>\\x08?\\x19?W\\x0e>\\x00h<xF\\n?S)?H>>\\x7f]?<<T<=\\x10>N\\x01E?<>n\\x199? j>UD>H<A\\x05?>:\\x0e>n0\\x1a?*>\\x1ad?U#>=)?>z\\x1d?\\x13\\x176?\\x16n>\\'S?>HIp?-?S?k>*~?\\x0e\\\\>f?\\x03*b?\\x03}?\\x10&v?|\\x06?q}?^=G>\\x1b>i>O!A?{Y? ?r\\x0e$?ļU>XU2?\"c?\\x16O?y;SdN?', 'language_code': 'en', 'artist_name': 'AWOL', 'album_date_released': '2009-01-05 00:00:00', 'album_title': 'AWOL - A Way Of Life', 'track_title': 'Electric Ave', 'duration': '237', 'genre_top': 'Hip-Hop'},\n",
       " Document {'id': 'audiosimilarityv2:46', 'payload': None, 'vector_score': '0.268487811089', 'feature_vector_text': '[0.054623631113814186, 0.589672881133543, 0.3813976182341958, 0.4503211076991729, 0.38212596648408514, 0.8978958221649768, 0.8877765500905773, 0.7960474783361154, 0.0730119041271503, 0.25727667334755966, 0.9234779638008886, 0.06589374511270718, 0.4460845844559166, 0.23884733004829606, 0.27534167208754556, 0.530011952836511, 0.17905005510581362, 0.29433422480521987, 0.6683527915976893, 0.7173398662178312, 0.0541222521299507, 0.07107806176332954, 0.6073433980125846, 0.5268455823721632, 0.6667939710274523, 0.19900476123021094, 0.09294094210037684, 0.7532858678952538, 0.9892812721948042, 0.6365741706503493, 0.4656824419937099, 0.28982463790225876, 0.9409303026256873, 0.5302354677941638, 0.6005060732983412, 0.6243754974473519, 0.16725506020471448, 0.757754798294918, 0.33624285672716714, 0.6106441513702103, 0.7532511960334496, 0.32661485835735105, 0.3361275735232512, 0.14794664820805015, 0.661722932871707, 0.015458457710999629, 0.8091463397993118, 0.46343774578555186, 0.010032504897850458, 0.07629864188030566, 0.06980904437515967, 0.6017187052489056, 0.42025386450740454, 0.9876194201137433, 0.62855003865683, 0.18676946758148072, 0.8951910505019623, 0.6654528205233736, 0.8719375663888683, 0.7674503581405793, 0.8746279676271905, 0.6290407945423284, 0.8393434832073252, 0.6147314650222097, 0.9301682633794542, 0.4812658675605921, 0.06015480284539465, 0.9808814497394754, 0.8084657619381862, 0.5366045509834768, 0.9189556824753318, 0.38433446429759177, 0.0489670864187467, 0.9639641620159564, 0.5552936586267987, 0.8916215798541213, 0.9347190796928485, 0.9226191907208099, 0.001025730879896325, 0.7876879979811642, 0.04404103443216678, 0.3138090482401672, 0.05900179795409355, 0.7558257870169723, 0.6873228190903177, 0.03769706365792025, 0.24198740758227277, 0.2009295333762866, 0.5645275399685736, 0.65095307889212, 0.8987930472924855, 0.1279856919854323, 0.026163803105001326, 0.9776669243898536, 0.8403519660858824, 0.3802429951193864, 0.15180810181979987, 0.876469848527672, 0.03142065646158543, 0.916750455138977]', 'track_publisher': 'null', 'album_tracks': '13', 'bit_rate': '256000', 'feature_vector': '\\x07_=\\x16?F>}>\\x04>e?SEc?K?D=Ź>\\ril?M=3e>et>>ݮ\\x07?X7>>+\\x19+?7?K]=`=z\\x1b?Z\\x06?\\x02*?K>W=X@?A}?\"?m>c>p?\\x07?ĺ\\x19?\\x13\\x1f?D+>8A?\\x06(>-S\\x1c?\\x12@?\\x10:>\\x18>S\\x7f\\x17>f)?yE}<7$O?G>`_$<vB=\\x0b==\\n\\x1a?+>|? ?\\x7f@?>>+e?\\x1e[*?M7_?wD?_?\\x08!?7V?\\x0b_\\x1d?\\x1fn?{h>dv=\\x0c\\x1b{?N?^\\t?@k?}>H=[v?\\'\\x0e?PAd?Io?0l?q:I?_d4=>߫q=}A?c/?<h\\x1a=w>yM>\\x10?ܤ&?M\\x17f?\\x0e\\x03>yU<aHz?N!W?6>s\\x1b>T``?\\x00=(j?', 'language_code': 'en', 'artist_name': 'Nicky Cook', 'album_date_released': '2009-01-06 00:00:00', 'album_title': 'Niris', 'track_title': 'Yosemite', 'duration': '104', 'genre_top': 'null'},\n",
       " Document {'id': 'audiosimilarityv2:30', 'payload': None, 'vector_score': '0.248689055443', 'feature_vector_text': '[0.21776174555971683, 0.6276064186246867, 0.2728493182604569, 0.5141722288004142, 0.7380564432486376, 0.9171005195922324, 0.21787029834449478, 0.19449727558210017, 0.9678722721558054, 0.8432403095100378, 0.5186370619573002, 0.20357258416533686, 0.8475972724551425, 0.5860208654078989, 0.46113153737165524, 0.8190001719414656, 0.7042821051287504, 0.528560116874832, 0.3115695815487586, 0.635981534890015, 0.9724358076825853, 0.7749672225375905, 0.5589613366784597, 0.0064176179697398306, 0.3410143527156472, 0.38944967185946544, 0.7383188322787828, 0.9679458279623671, 0.6234681073681337, 0.34168712096440323, 0.24263053914834132, 0.09171357888373988, 0.5710438909347717, 0.20896209979053748, 0.24013018965235033, 0.7982634294148402, 0.1902694141477591, 0.4685974316901488, 0.9463783307440468, 0.07221362196197156, 0.4857468451023451, 0.05030489834638996, 0.5599902749719601, 0.4214780670502787, 0.32061428265430914, 0.05110585285674729, 0.1942737001460535, 0.2549294618130936, 0.14675157386631288, 0.09868552422358845, 0.403893418491015, 0.9727000466823147, 0.5904415785765763, 0.9348434423999161, 0.14092447334875902, 0.8419520134109271, 0.09736906091856101, 0.16280399575022175, 0.6890910083731401, 0.8597347211009397, 0.6330363588081379, 0.6818669888541075, 0.8817674223024259, 0.11805907932719995, 0.9458214124573389, 0.6309937915003674, 0.36356532859489465, 0.8805876969638112, 0.5674069283368496, 0.5567287807150946, 0.5951902908146844, 0.7814274987320394, 0.9474979604349654, 0.6642371796997824, 0.13932035169189794, 0.8320227719965878, 0.3430858880449573, 0.3517094450689029, 0.24593806654161343, 0.5063340828624437, 0.14420444020144907, 0.24199001431951261, 0.16016217335541805, 0.7339245237596127, 0.6156006681506129, 0.9101258110217149, 0.1529127514531109, 0.05937129393084695, 0.23763361579955833, 0.6263761691937614, 0.46433774597959754, 0.6980586369558984, 0.8602997988678475, 0.2877529038022385, 0.5000713214953867, 0.8208725939505737, 0.13681387205056217, 0.8795789561387836, 0.2351441168279632, 0.7669497678264527]', 'track_publisher': 'null', 'album_tracks': '13', 'bit_rate': '256000', 'feature_vector': '^>Ъ ?貋>ˠ\\x03?D<?\\x1aj?d\\x19_>K*G>zw?W?f\\x04?UuP>#X?w\\x05\\x16?o\\x19>Q?K4?O\\x07?\\x0c>\"?x?@dF?\\x17\\x18\\x0f?J;o>e>w\\x02=?Lw?\\x1f?>$tx>TԻ=/\\x12?)U>u>ZL?B>\\x01>Er?=ϳ>\\x0cN=[\\x0f?>\\'>_TQ=F>\\x1d>\\x0bF\\x16>\\x1b=\\x1e>\\x02y?.\\'\\x17?Qo?N\\x10>+W?ni=\\x17&>Eh0?\\x17\\\\?\\x0e\"?֎.?a?=Z!r?ψ!?<%>2na?A\\x11?ǅ\\x0e?d^\\x18?\\x0bH?:r?s\\x0b*?\\x0e>rT?>C\\x13>0{>\\x1c\\x01?T\\x13>;w>\\x01$>z;?\\x01\\x1d?\\x01h?)\\x1c>P/s=:Vs>0Z ?>2?<\\\\?YT>\\x04\\x00?$R?\\x18\\x0c>\\x16,a?p>VD?', 'language_code': 'en', 'artist_name': 'Nicky Cook', 'album_date_released': '2009-01-06 00:00:00', 'album_title': 'Niris', 'track_title': 'Too Happy', 'duration': '174', 'genre_top': 'null'},\n",
       " Document {'id': 'audiosimilarityv2:20', 'payload': None, 'vector_score': '0.237662792206', 'feature_vector_text': '[0.0842449635225253, 0.3873645390953817, 0.9117054452342257, 0.49788859261038265, 0.8740855706429909, 0.37537381776876133, 0.2918105743083924, 0.17937019672187593, 0.07272808701523126, 0.13276914834312015, 0.9376661710126636, 0.7602018658463363, 0.6148655360955162, 0.14525593795417968, 0.40136908796435244, 0.0081214152989737, 0.5480989043354217, 0.7124891386459257, 0.1919364689793157, 0.36681729420624143, 0.7455119434570092, 0.742788536948258, 0.6002571845829467, 0.9566374790073466, 0.8487988786287554, 0.9735418308178914, 0.028576139204029793, 0.9464642257983573, 0.876172226948847, 0.7051820258208412, 0.1777670051490512, 0.8028685670345878, 0.8274042463288772, 0.9295422759428905, 0.7979228051564348, 0.6987398889947917, 0.20729690218846275, 0.2637117260584241, 0.04466618121054711, 0.7303205637062867, 0.15794819842860008, 0.8926966844343305, 0.26442479784851924, 0.013886476507581236, 0.06430405129364325, 0.4627457842247571, 0.7814108151246849, 0.5959701800573154, 0.9513784792467785, 0.7371874384284256, 0.148015733680521, 0.952149741715133, 0.2016567921909338, 0.866880892257906, 0.11083340097744399, 0.7490766642291606, 0.4672595623728596, 0.6934071660813754, 0.31907167072205533, 0.10159038029435785, 0.2980117068599668, 0.6419103791304055, 0.3779860108369758, 0.017472399116923665, 0.7403620730467524, 0.9771836709369957, 0.8987792749980558, 0.4700288501749248, 0.5706076369861055, 0.4461862489148072, 0.7338433359704846, 0.5975775995630421, 0.17156351773687484, 0.7642890396866923, 0.29734400859017107, 0.775750589523063, 0.330660135868157, 0.6358687518771196, 0.37833260903590094, 0.30109267991162714, 0.07323941380324028, 0.6573972159714804, 0.20444183184837073, 0.697986114769805, 0.7561897199258152, 0.6909197558658592, 0.4597032195551538, 0.9169470453362152, 0.6933635356484363, 0.3717880377292203, 0.5438127927309673, 0.442791077325293, 0.6640723718688065, 0.581782812920786, 0.800650073959001, 0.9445568529610155, 0.1137205747427088, 0.3672601834082909, 0.8944160992442838, 0.9171622948158646]', 'track_publisher': 'null', 'album_tracks': '13', 'bit_rate': '256000', 'feature_vector': '=T>ei?A>\\x12_?0>2h>Ҭ7>w=\\x07>\\np?B?g\\x1d?\\x14>@>\\x0f\\x05<6P\\x0c?e6?D>zϻ>>?d\\'>?t\\x19?2t?JY?\\n:y?\\x18<{Kr?L`?φ4?\\x086>ˈM?S?|m?DL?2?ET>9\\x05>6=J:?,!>Ňd?b>\\x1bc<ر=\\x04>\\nH?\\x18?s?Q<?p\\x17>\\x16s?\\x1e\\x7fN>]?=}??<>\"1?]]>\\x0e=>=T$?b>G\"<^=?(z?f\\x16f?>X\\x13\\x12?r>(;?\\x18?Y/>rC?y=>F?IL>K\"?д>(>=/K(?3YQ>82?A?\\x1e0?8^>\\x0bj?F1?\\x00[>Q7\\x0b?>\\x00*?\\x14?gL?zq?U=\\t>td?&j?', 'language_code': 'en', 'artist_name': 'Nicky Cook', 'album_date_released': '2009-01-06 00:00:00', 'album_title': 'Niris', 'track_title': 'Spiritual Level', 'duration': '311', 'genre_top': 'null'},\n",
       " Document {'id': 'audiosimilarityv2:10', 'payload': None, 'vector_score': '0.185259819031', 'feature_vector_text': '[0.7139243945560061, 0.6712694192538415, 0.3092022648355788, 0.04380319414156286, 0.5984780881123506, 0.7614303777043813, 0.7215479552065976, 0.9924564618356166, 0.7484071290865331, 0.8411938347183773, 0.9435291871922654, 0.4446904658259123, 0.8397233203479886, 0.9877309021003434, 0.2557447939754365, 0.11027911724840689, 0.05229604614040573, 0.737403427123573, 0.8727879465147393, 0.5729366167979105, 0.6458420771937595, 0.503005777483447, 0.35274807588808055, 0.7144910710306979, 0.33616104206780073, 0.8097336941819783, 0.9788507611654365, 0.8945865244358983, 0.2678429582879627, 0.8316160844878356, 0.1647486165939449, 0.5645676310279713, 0.3774635690489623, 0.6159072645590133, 0.0443976233038732, 0.9496212180221256, 0.7117539016151994, 0.7127513987147627, 0.25060228620562086, 0.31619828601624156, 0.2441187072933948, 0.6682324480766716, 0.8364096790047414, 0.17873067564945655, 0.34999999701460605, 0.3900487075219582, 0.7268801031647365, 0.8341326874512518, 0.3666061138629162, 0.5419785168111796, 0.6646742842496965, 0.5546082700406922, 0.8891450883748147, 0.9616195753960785, 0.17197972046862897, 0.3672231314255553, 0.17793773293086246, 0.14453406050602735, 0.721539307727531, 0.9383097850094142, 0.30285677401327193, 0.18376926973864938, 0.8313352291985172, 0.7487634494981739, 0.8950522024154169, 0.11722127435359497, 0.8274674720415692, 0.06172976859414181, 0.33509776591959783, 0.13556513754094512, 0.805461545707068, 0.33809579341401885, 0.20401354637337132, 0.5630305345725133, 0.1321834530406144, 0.9022148852671975, 0.3994220274405842, 0.2925824743679012, 0.5393260687756298, 0.1300091621689684, 0.3676833008039868, 0.0403027109154066, 0.5008411347853332, 0.7514978564746307, 0.33827606080243, 0.1276838617001047, 0.20729390624009547, 0.10776671811030947, 0.4403284907851973, 0.7891217491252236, 0.6222952195246095, 0.8600301164886703, 0.9875944052922105, 0.6037920148917667, 0.7152666939568821, 0.47225096860152993, 0.3625691174772824, 0.030260772269122382, 0.6537434698744379, 0.04945094255647742]', 'track_publisher': 'null', 'album_tracks': '2', 'bit_rate': '192000', 'feature_vector': '6?P+?O>j3=5\\x19?\\x1aB?^8?\\x11~???{XW?!q?x>\\x1cV?|?>\\x05=a4V=y<?\\x08o_?\\x12?U%?\\x00?e>6?M\\x1d>JO?z?\\x03e?\">T?ݳ(>\\x10?B>\\x19\\x1d?H5=`\\x1as?56?v6?N>>Ay>H\\x11+?\\x1eV?-\\x057>33>w>\\x14:?U?̳>\\x1b\\n?\\x18(*?\\r?\\x03c?,v?t\\x1b0>\\x04>O56>\\x00\\x14>Ͷ8?\\x125p?\\x0b\\x10>\\x03.<>cT???$\"e?\\x11=S?[|=\\uf46b>\\n>2N?\\x1a>P>\"\\x10?\\x19[\\x07>f?\\x0b>_͕>F\\x11\\n?\\x1f!\\x05>@>u\\x14%= 7\\x00?*b@?2>\\x02>DT>̴=r>\\x03J?N\\x1f?*\\\\?|?\\x1d\\x1a?\\x1b7?>>p<[\\'?\\x12J=', 'language_code': 'en', 'artist_name': 'Kurt Vile', 'album_date_released': '2008-02-06 00:00:00', 'album_title': 'Constant Hitmaker', 'track_title': 'Freeway', 'duration': '161', 'genre_top': 'Pop'}]"
      ]
     },
     "execution_count": 46,
     "metadata": {},
     "output_type": "execute_result"
    }
   ],
   "source": [
    "vec = np.random.rand(DIM)\n",
    "res = vector_similarity(vec)\n",
    "res"
   ]
  },
  {
   "cell_type": "markdown",
   "metadata": {},
   "source": [
    "## Convert (byte)string back to array"
   ]
  },
  {
   "cell_type": "code",
   "execution_count": 47,
   "metadata": {},
   "outputs": [
    {
     "data": {
      "text/plain": [
       "'>\\x17i\\x07?jm?B>\\x0e<<\\x01g?:*=\\x01<m~|?\\x08\\x1c>=XCT?n>L?pq2?\\x0c>>\\x02\\u05f5=\\u07fc\\x1c?.\\x0e\\x0f><\\x06?\\x01?\\r.?\\x1da?G4>W?m0?oJ\\x19?\\x12U?\\x15?M|?irr?K>\\x01M?\"?\\x1aJI?}>y<x(k?\\x00_>\\x06/?>h\\x1b>Y]?i<?\\t>>*]?ajR?w\\x18>>&\\x17?0>)]?\\x184?>\\x08>GV>{>k\\x16<p=㬋>\\x0f\\\\?\\x00\\x1d?#>>JB?y?x[?4V\\'?<\\x14v?>\\x1b??M>?>\\x1f?{=>}.?\\x0b\\x7fD?\\x11\\x7f?f?$b>|>\\n>>\\x15\\\\>>\\x12֮>\\x19\\x13?Or>$r?Td\\x0e?B\\'Y>\\x07=?2\\x17?ݴ:>JT$?W>'"
      ]
     },
     "execution_count": 47,
     "metadata": {},
     "output_type": "execute_result"
    }
   ],
   "source": [
    "vector_bytes_str = res[0][\"feature_vector\"]\n",
    "vector_bytes_str"
   ]
  },
  {
   "cell_type": "code",
   "execution_count": 48,
   "metadata": {},
   "outputs": [
    {
     "data": {
      "text/plain": [
       "(bytes, 267)"
      ]
     },
     "execution_count": 48,
     "metadata": {},
     "output_type": "execute_result"
    }
   ],
   "source": [
    "vector_bytes_str_enc = vector_bytes_str.encode()\n",
    "type(vector_bytes_str_enc), len(vector_bytes_str_enc)"
   ]
  },
  {
   "cell_type": "code",
   "execution_count": 49,
   "metadata": {},
   "outputs": [
    {
     "name": "stderr",
     "output_type": "stream",
     "text": [
      "C:\\Users\\Phili\\AppData\\Local\\Temp/ipykernel_12236/83788260.py:1: DeprecationWarning: invalid escape sequence '\\?'\n",
      "  bytes_np_dec = vector_bytes_str_enc.decode('unicode-escape').encode('ISO-8859-1')[2:-1]\n"
     ]
    },
    {
     "data": {
      "text/plain": [
       "(bytes, 264)"
      ]
     },
     "execution_count": 49,
     "metadata": {},
     "output_type": "execute_result"
    }
   ],
   "source": [
    "bytes_np_dec = vector_bytes_str_enc.decode('unicode-escape').encode('ISO-8859-1')[2:-1]\n",
    "type(bytes_np_dec), len(bytes_np_dec)"
   ]
  },
  {
   "cell_type": "code",
   "execution_count": 50,
   "metadata": {},
   "outputs": [
    {
     "data": {
      "text/plain": [
       "array([ 5.7734956e+25,  1.8969508e-01,  3.4573234e-38,  1.6542116e-13,\n",
       "        3.6365424e+27,  5.7623312e-34,  8.3229782e+14,  1.4803376e+28,\n",
       "        2.3681523e+29,  1.4729284e-31, -1.4320384e+14, -2.7251104e-02,\n",
       "        2.1477542e-30,  3.5404464e-35,  5.8857919e-31,  1.8129321e+20,\n",
       "        1.7605303e-01,  8.6310109e-10,  1.0465621e-23,  8.3230966e-01,\n",
       "        4.2628012e+36,  4.8014469e+30,  3.4951475e-38,  6.3377839e-01,\n",
       "        7.8628695e-01,  1.5212652e-02,  9.1858625e-01,  3.5804823e-35,\n",
       "        3.5936607e+24,  9.7837369e+17,  7.3598093e-01,  1.6896913e-13,\n",
       "        6.8076884e+25,  3.1955970e-24,  5.3716054e-25,  4.2230322e-14,\n",
       "        1.4179155e-07,  1.3304995e-01,  9.8828632e+35,  9.1808420e-03,\n",
       "       -6.4585490e-12,  1.6127875e+17,  6.1328501e-01,  3.1169368e+06,\n",
       "        9.7362149e-01,  1.7821537e-07,  1.1667093e-02,  1.8697387e-01,\n",
       "        2.0053650e+08,  4.0286378e-20,  1.8504046e-01,  3.6820236e-32,\n",
       "        1.5088350e-28,  8.9940637e-01,  3.9541077e+36,  1.8558595e-01,\n",
       "        1.8589814e-01,  3.4147698e-01,  3.2056998e+09,  3.2531861e+30,\n",
       "        2.8143733e-30,  2.9424475e+15,  7.3839176e-01, -8.6059559e+17,\n",
       "        3.1167170e+06,  2.1016275e+14], dtype=float32)"
      ]
     },
     "execution_count": 50,
     "metadata": {},
     "output_type": "execute_result"
    }
   ],
   "source": [
    "np.frombuffer(bytes_np_dec, dtype=np.float32)"
   ]
  },
  {
   "cell_type": "code",
   "execution_count": 51,
   "metadata": {},
   "outputs": [
    {
     "ename": "NameError",
     "evalue": "name 'vector_np' is not defined",
     "output_type": "error",
     "traceback": [
      "\u001b[1;31m---------------------------------------------------------------------------\u001b[0m",
      "\u001b[1;31mNameError\u001b[0m                                 Traceback (most recent call last)",
      "\u001b[1;32m~\\AppData\\Local\\Temp/ipykernel_12236/43970970.py\u001b[0m in \u001b[0;36m<module>\u001b[1;34m\u001b[0m\n\u001b[0;32m      1\u001b[0m \u001b[1;31m# https://stackoverflow.com/questions/66663132/valueerror-buffer-size-must-be-a-multiple-of-element-size-when-converting-from\u001b[0m\u001b[1;33m\u001b[0m\u001b[1;33m\u001b[0m\u001b[1;33m\u001b[0m\u001b[0m\n\u001b[1;32m----> 2\u001b[1;33m \u001b[0mvector_bytes\u001b[0m \u001b[1;33m=\u001b[0m \u001b[0mvector_np\u001b[0m\u001b[1;33m.\u001b[0m\u001b[0mtobytes\u001b[0m\u001b[1;33m(\u001b[0m\u001b[1;33m)\u001b[0m\u001b[1;33m\u001b[0m\u001b[1;33m\u001b[0m\u001b[0m\n\u001b[0m\u001b[0;32m      3\u001b[0m \u001b[0mvector_bytes_str\u001b[0m \u001b[1;33m=\u001b[0m \u001b[0mstr\u001b[0m\u001b[1;33m(\u001b[0m\u001b[0mvector_bytes\u001b[0m\u001b[1;33m)\u001b[0m\u001b[1;33m\u001b[0m\u001b[1;33m\u001b[0m\u001b[0m\n\u001b[0;32m      4\u001b[0m \u001b[0mvector_bytes_str_enc\u001b[0m \u001b[1;33m=\u001b[0m \u001b[0mvector_bytes_str\u001b[0m\u001b[1;33m.\u001b[0m\u001b[0mencode\u001b[0m\u001b[1;33m(\u001b[0m\u001b[1;33m)\u001b[0m\u001b[1;33m\u001b[0m\u001b[1;33m\u001b[0m\u001b[0m\n\u001b[0;32m      5\u001b[0m \u001b[0mbytes_np_dec\u001b[0m \u001b[1;33m=\u001b[0m \u001b[0mvector_bytes_str_enc\u001b[0m\u001b[1;33m.\u001b[0m\u001b[0mdecode\u001b[0m\u001b[1;33m(\u001b[0m\u001b[1;34m'unicode-escape'\u001b[0m\u001b[1;33m)\u001b[0m\u001b[1;33m.\u001b[0m\u001b[0mencode\u001b[0m\u001b[1;33m(\u001b[0m\u001b[1;34m'ISO-8859-1'\u001b[0m\u001b[1;33m)\u001b[0m\u001b[1;33m[\u001b[0m\u001b[1;36m2\u001b[0m\u001b[1;33m:\u001b[0m\u001b[1;33m-\u001b[0m\u001b[1;36m1\u001b[0m\u001b[1;33m]\u001b[0m\u001b[1;33m\u001b[0m\u001b[1;33m\u001b[0m\u001b[0m\n",
      "\u001b[1;31mNameError\u001b[0m: name 'vector_np' is not defined"
     ]
    }
   ],
   "source": [
    "# https://stackoverflow.com/questions/66663132/valueerror-buffer-size-must-be-a-multiple-of-element-size-when-converting-from\n",
    "vector_bytes = vector_np.tobytes()\n",
    "vector_bytes_str = str(vector_bytes)\n",
    "vector_bytes_str_enc = vector_bytes_str.encode()\n",
    "bytes_np_dec = vector_bytes_str_enc.decode('unicode-escape').encode('ISO-8859-1')[2:-1]\n",
    "np.frombuffer(bytes_np_dec, dtype=np.float64)"
   ]
  },
  {
   "cell_type": "code",
   "execution_count": null,
   "metadata": {},
   "outputs": [],
   "source": [
    "# hier funktionierts, vl mcaht redis zwischendurch noch was kaputt\n",
    "test = np.random.rand(DIM)\n",
    "testb = test.astype(dtype=np.float32).tobytes()\n",
    "testbstr = str(testb)\n",
    "test_enc = testbstr.encode()\n",
    "test_dec = test_enc.decode('unicode-escape').encode('ISO-8859-1')[2:-1]\n",
    "np.frombuffer(test_dec, dtype=np.float32)"
   ]
  }
 ],
 "metadata": {
  "kernelspec": {
   "display_name": "Python 3",
   "language": "python",
   "name": "python3"
  },
  "language_info": {
   "codemirror_mode": {
    "name": "ipython",
    "version": 3
   },
   "file_extension": ".py",
   "mimetype": "text/x-python",
   "name": "python",
   "nbconvert_exporter": "python",
   "pygments_lexer": "ipython3",
   "version": "3.10.11"
  },
  "orig_nbformat": 4
 },
 "nbformat": 4,
 "nbformat_minor": 2
}
